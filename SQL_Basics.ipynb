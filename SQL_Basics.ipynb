{
  "nbformat": 4,
  "nbformat_minor": 0,
  "metadata": {
    "colab": {
      "name": "SQL_Basic.ipynb",
      "provenance": [],
      "collapsed_sections": [],
      "authorship_tag": "ABX9TyNND0a6LMktJdxLdPr8ZhcC",
      "include_colab_link": true
    },
    "kernelspec": {
      "name": "python3",
      "display_name": "Python 3"
    },
    "language_info": {
      "name": "python"
    }
  },
  "cells": [
    {
      "cell_type": "markdown",
      "metadata": {
        "id": "view-in-github",
        "colab_type": "text"
      },
      "source": [
        "<a href=\"https://colab.research.google.com/github/RoozbehSanaei/SQL/blob/main/SQL_Basics.ipynb\" target=\"_parent\"><img src=\"https://colab.research.google.com/assets/colab-badge.svg\" alt=\"Open In Colab\"/></a>"
      ]
    },
    {
      "cell_type": "code",
      "metadata": {
        "colab": {
          "base_uri": "https://localhost:8080/"
        },
        "id": "XHNYpnJ9TsDw",
        "outputId": "85479755-55cb-4d4e-82b2-3ff8adcdbcf7"
      },
      "source": [
        "!git clone https://github.com/RoozbehSanaei/SQL.git"
      ],
      "execution_count": null,
      "outputs": [
        {
          "output_type": "stream",
          "name": "stdout",
          "text": [
            "Cloning into 'SQL'...\n",
            "remote: Enumerating objects: 6, done.\u001b[K\n",
            "remote: Counting objects: 100% (6/6), done.\u001b[K\n",
            "remote: Compressing objects: 100% (4/4), done.\u001b[K\n",
            "remote: Total 6 (delta 0), reused 6 (delta 0), pack-reused 0\u001b[K\n",
            "Unpacking objects: 100% (6/6), done.\n"
          ]
        }
      ]
    },
    {
      "cell_type": "code",
      "metadata": {
        "id": "qwqDE7JvUFjV"
      },
      "source": [
        "import pandas as pd\n",
        "import sqlite3"
      ],
      "execution_count": null,
      "outputs": []
    },
    {
      "cell_type": "code",
      "metadata": {
        "id": "0BsiDGezTzHc"
      },
      "source": [
        "Customers = pd.read_excel(\n",
        "    'SQL/Customers.xlsx', \n",
        "    sheet_name='Customers',\n",
        "    header=0)\n",
        "\n",
        "\n",
        "Categories = pd.read_excel(\n",
        "    'SQL/Customers.xlsx', \n",
        "    sheet_name='Categories',\n",
        "    header=0)\n",
        "\n",
        "\n",
        "Employees = pd.read_excel(\n",
        "    'SQL/Customers.xlsx', \n",
        "    sheet_name='Employees',\n",
        "    header=0)\n",
        "\n",
        "\n",
        "OrderDetails = pd.read_excel(\n",
        "    'SQL/Customers.xlsx', \n",
        "    sheet_name='OrderDetails',\n",
        "    header=0)\n",
        "\n",
        "\n",
        "Orders = pd.read_excel(\n",
        "    'SQL/Customers.xlsx', \n",
        "    sheet_name='Orders',\n",
        "    header=0)\n",
        "\n",
        "\n",
        "Product = pd.read_excel(\n",
        "    'SQL/Customers.xlsx', \n",
        "    sheet_name='Product',\n",
        "    header=0)\n",
        "\n",
        "\n",
        "Shippers = pd.read_excel(\n",
        "    'SQL/Customers.xlsx', \n",
        "    sheet_name='Shippers',\n",
        "    header=0)\n"
      ],
      "execution_count": null,
      "outputs": []
    },
    {
      "cell_type": "code",
      "metadata": {
        "id": "eiMi6nDcw0Ml"
      },
      "source": [
        "db_conn = sqlite3.connect(\"customers.db\")\n",
        "c = db_conn.cursor()"
      ],
      "execution_count": null,
      "outputs": []
    },
    {
      "cell_type": "code",
      "metadata": {
        "colab": {
          "base_uri": "https://localhost:8080/",
          "height": 235
        },
        "id": "z8aj7BJUxNbD",
        "outputId": "7a912d99-afe3-4958-9b0c-59b3a90c5303"
      },
      "source": [
        "c.execute(\n",
        "    \"\"\"\n",
        "    CREATE TABLE Customers (\n",
        "        CustomerID INTEGER ,\n",
        "        CustomerName TEXT NOT NULL,\n",
        "        ContactName TEXT NOT NULL,\n",
        "        Address TEXT NOT NULL,\n",
        "        City TEXT NOT NULL,\n",
        "        PostalCode INTEGER,\n",
        "        Country TEXT NOT NULL,\n",
        "        PRIMARY KEY(CustomerID)\n",
        "        );\n",
        "     \"\"\"\n",
        ")\n",
        "\n",
        "c.execute(\n",
        "    \"\"\"\n",
        "    CREATE TABLE Orders (\n",
        "        OrderID INTEGER ,\n",
        "        CustomerID INTEGER ,\n",
        "        EmployeeID INTEGER ,\n",
        "        OrderDate DATE,\n",
        "        ShipperID INTEGER,\n",
        "        PRIMARY KEY(OrderID),\n",
        "        FOREIGN KEY(CustomerID) REFERENCES customers(CustomerID)\n",
        "        );\n",
        "     \"\"\"\n",
        ")"
      ],
      "execution_count": null,
      "outputs": [
        {
          "output_type": "error",
          "ename": "OperationalError",
          "evalue": "ignored",
          "traceback": [
            "\u001b[0;31m---------------------------------------------------------------------------\u001b[0m",
            "\u001b[0;31mOperationalError\u001b[0m                          Traceback (most recent call last)",
            "\u001b[0;32m<ipython-input-60-5f715114a09b>\u001b[0m in \u001b[0;36m<module>\u001b[0;34m()\u001b[0m\n\u001b[1;32m     11\u001b[0m         \u001b[0mPRIMARY\u001b[0m \u001b[0mKEY\u001b[0m\u001b[0;34m(\u001b[0m\u001b[0mCustomerID\u001b[0m\u001b[0;34m)\u001b[0m\u001b[0;34m\u001b[0m\u001b[0;34m\u001b[0m\u001b[0m\n\u001b[1;32m     12\u001b[0m         );\n\u001b[0;32m---> 13\u001b[0;31m      \"\"\"\n\u001b[0m\u001b[1;32m     14\u001b[0m )\n\u001b[1;32m     15\u001b[0m \u001b[0;34m\u001b[0m\u001b[0m\n",
            "\u001b[0;31mOperationalError\u001b[0m: table Customers already exists"
          ]
        }
      ]
    },
    {
      "cell_type": "code",
      "metadata": {
        "id": "ia2eOE6HCJ5F"
      },
      "source": [
        "Customers.to_sql('Customers', db_conn, if_exists='append', index=False)\n",
        "Orders.to_sql('Orders', db_conn, if_exists='append', index=False)"
      ],
      "execution_count": null,
      "outputs": []
    },
    {
      "cell_type": "code",
      "metadata": {
        "colab": {
          "base_uri": "https://localhost:8080/",
          "height": 206
        },
        "id": "ZveTkRVoCVp0",
        "outputId": "2a7d566e-8ecb-457a-d034-397d40c476a6"
      },
      "source": [
        "pd.read_sql(\"SELECT * FROM Orders LIMIT 5\", db_conn)"
      ],
      "execution_count": null,
      "outputs": [
        {
          "output_type": "execute_result",
          "data": {
            "text/html": [
              "<div>\n",
              "<style scoped>\n",
              "    .dataframe tbody tr th:only-of-type {\n",
              "        vertical-align: middle;\n",
              "    }\n",
              "\n",
              "    .dataframe tbody tr th {\n",
              "        vertical-align: top;\n",
              "    }\n",
              "\n",
              "    .dataframe thead th {\n",
              "        text-align: right;\n",
              "    }\n",
              "</style>\n",
              "<table border=\"1\" class=\"dataframe\">\n",
              "  <thead>\n",
              "    <tr style=\"text-align: right;\">\n",
              "      <th></th>\n",
              "      <th>OrderID</th>\n",
              "      <th>CustomerID</th>\n",
              "      <th>EmployeeID</th>\n",
              "      <th>OrderDate</th>\n",
              "      <th>ShipperID</th>\n",
              "    </tr>\n",
              "  </thead>\n",
              "  <tbody>\n",
              "    <tr>\n",
              "      <th>0</th>\n",
              "      <td>10248</td>\n",
              "      <td>90</td>\n",
              "      <td>5</td>\n",
              "      <td>1996-07-04 00:00:00</td>\n",
              "      <td>3</td>\n",
              "    </tr>\n",
              "    <tr>\n",
              "      <th>1</th>\n",
              "      <td>10249</td>\n",
              "      <td>81</td>\n",
              "      <td>6</td>\n",
              "      <td>1996-07-05 00:00:00</td>\n",
              "      <td>1</td>\n",
              "    </tr>\n",
              "    <tr>\n",
              "      <th>2</th>\n",
              "      <td>10250</td>\n",
              "      <td>34</td>\n",
              "      <td>4</td>\n",
              "      <td>1996-07-08 00:00:00</td>\n",
              "      <td>2</td>\n",
              "    </tr>\n",
              "    <tr>\n",
              "      <th>3</th>\n",
              "      <td>10251</td>\n",
              "      <td>84</td>\n",
              "      <td>3</td>\n",
              "      <td>1996-07-08 00:00:00</td>\n",
              "      <td>1</td>\n",
              "    </tr>\n",
              "    <tr>\n",
              "      <th>4</th>\n",
              "      <td>10252</td>\n",
              "      <td>76</td>\n",
              "      <td>4</td>\n",
              "      <td>1996-07-09 00:00:00</td>\n",
              "      <td>2</td>\n",
              "    </tr>\n",
              "  </tbody>\n",
              "</table>\n",
              "</div>"
            ],
            "text/plain": [
              "   OrderID  CustomerID  EmployeeID            OrderDate  ShipperID\n",
              "0    10248          90           5  1996-07-04 00:00:00          3\n",
              "1    10249          81           6  1996-07-05 00:00:00          1\n",
              "2    10250          34           4  1996-07-08 00:00:00          2\n",
              "3    10251          84           3  1996-07-08 00:00:00          1\n",
              "4    10252          76           4  1996-07-09 00:00:00          2"
            ]
          },
          "metadata": {},
          "execution_count": 62
        }
      ]
    },
    {
      "cell_type": "code",
      "metadata": {
        "colab": {
          "base_uri": "https://localhost:8080/"
        },
        "id": "qROH-o7oPezD",
        "outputId": "b6d19f22-e004-42a6-b77e-62e39f812657"
      },
      "source": [
        "c.execute(\"\"\"DROP TABLE IF EXISTS Customers\"\"\")"
      ],
      "execution_count": null,
      "outputs": [
        {
          "output_type": "execute_result",
          "data": {
            "text/plain": [
              "<sqlite3.Cursor at 0x7f23602473b0>"
            ]
          },
          "metadata": {},
          "execution_count": 40
        }
      ]
    },
    {
      "cell_type": "code",
      "metadata": {
        "id": "8HxjZrxAOtAo"
      },
      "source": [
        "db_conn.close()"
      ],
      "execution_count": null,
      "outputs": []
    },
    {
      "cell_type": "code",
      "metadata": {
        "colab": {
          "base_uri": "https://localhost:8080/"
        },
        "id": "ZghLlO5_U_K8",
        "outputId": "986e5a19-e39c-4409-c089-6811124496e8"
      },
      "source": [
        "%load_ext sql"
      ],
      "execution_count": null,
      "outputs": [
        {
          "output_type": "stream",
          "name": "stdout",
          "text": [
            "The sql extension is already loaded. To reload it, use:\n",
            "  %reload_ext sql\n"
          ]
        }
      ]
    },
    {
      "cell_type": "code",
      "metadata": {
        "colab": {
          "base_uri": "https://localhost:8080/",
          "height": 35
        },
        "id": "rUMUtE68VBNM",
        "outputId": "509593b1-cee7-4e18-b390-058f9afeceab"
      },
      "source": [
        "%sql sqlite:///customers.db"
      ],
      "execution_count": null,
      "outputs": [
        {
          "output_type": "execute_result",
          "data": {
            "application/vnd.google.colaboratory.intrinsic+json": {
              "type": "string"
            },
            "text/plain": [
              "'Connected: @customers.db'"
            ]
          },
          "metadata": {},
          "execution_count": 64
        }
      ]
    },
    {
      "cell_type": "code",
      "metadata": {
        "colab": {
          "base_uri": "https://localhost:8080/",
          "height": 182
        },
        "id": "23H2MGbgVV10",
        "outputId": "8c9e4462-4e51-4965-f2f3-15d7a9a3350b"
      },
      "source": [
        " %%sql \n",
        "SELECT * FROM Orders LIMIT 5"
      ],
      "execution_count": null,
      "outputs": [
        {
          "output_type": "stream",
          "name": "stdout",
          "text": [
            " * sqlite:///customers.db\n",
            "Done.\n"
          ]
        },
        {
          "output_type": "execute_result",
          "data": {
            "text/html": [
              "<table>\n",
              "    <thead>\n",
              "        <tr>\n",
              "            <th>OrderID</th>\n",
              "            <th>CustomerID</th>\n",
              "            <th>EmployeeID</th>\n",
              "            <th>OrderDate</th>\n",
              "            <th>ShipperID</th>\n",
              "        </tr>\n",
              "    </thead>\n",
              "    <tbody>\n",
              "        <tr>\n",
              "            <td>10248</td>\n",
              "            <td>90</td>\n",
              "            <td>5</td>\n",
              "            <td>1996-07-04 00:00:00</td>\n",
              "            <td>3</td>\n",
              "        </tr>\n",
              "        <tr>\n",
              "            <td>10249</td>\n",
              "            <td>81</td>\n",
              "            <td>6</td>\n",
              "            <td>1996-07-05 00:00:00</td>\n",
              "            <td>1</td>\n",
              "        </tr>\n",
              "        <tr>\n",
              "            <td>10250</td>\n",
              "            <td>34</td>\n",
              "            <td>4</td>\n",
              "            <td>1996-07-08 00:00:00</td>\n",
              "            <td>2</td>\n",
              "        </tr>\n",
              "        <tr>\n",
              "            <td>10251</td>\n",
              "            <td>84</td>\n",
              "            <td>3</td>\n",
              "            <td>1996-07-08 00:00:00</td>\n",
              "            <td>1</td>\n",
              "        </tr>\n",
              "        <tr>\n",
              "            <td>10252</td>\n",
              "            <td>76</td>\n",
              "            <td>4</td>\n",
              "            <td>1996-07-09 00:00:00</td>\n",
              "            <td>2</td>\n",
              "        </tr>\n",
              "    </tbody>\n",
              "</table>"
            ],
            "text/plain": [
              "[(10248, 90, 5, '1996-07-04 00:00:00', 3),\n",
              " (10249, 81, 6, '1996-07-05 00:00:00', 1),\n",
              " (10250, 34, 4, '1996-07-08 00:00:00', 2),\n",
              " (10251, 84, 3, '1996-07-08 00:00:00', 1),\n",
              " (10252, 76, 4, '1996-07-09 00:00:00', 2)]"
            ]
          },
          "metadata": {},
          "execution_count": 67
        }
      ]
    },
    {
      "cell_type": "code",
      "metadata": {
        "colab": {
          "base_uri": "https://localhost:8080/",
          "height": 182
        },
        "id": "6AC8Z2weWWwp",
        "outputId": "fd2a0b73-2664-45b5-fe0d-4cf3d7819f53"
      },
      "source": [
        "%%sql\n",
        "SELECT CustomerName,City FROM Customers LIMIT 5;"
      ],
      "execution_count": null,
      "outputs": [
        {
          "output_type": "stream",
          "name": "stdout",
          "text": [
            " * sqlite:///customers.db\n",
            "Done.\n"
          ]
        },
        {
          "output_type": "execute_result",
          "data": {
            "text/html": [
              "<table>\n",
              "    <thead>\n",
              "        <tr>\n",
              "            <th>CustomerName</th>\n",
              "            <th>City</th>\n",
              "        </tr>\n",
              "    </thead>\n",
              "    <tbody>\n",
              "        <tr>\n",
              "            <td>Alfreds Futterkiste</td>\n",
              "            <td>Berlin</td>\n",
              "        </tr>\n",
              "        <tr>\n",
              "            <td>Ana Trujillo Emparedados y helados</td>\n",
              "            <td>México D.F.</td>\n",
              "        </tr>\n",
              "        <tr>\n",
              "            <td>Antonio Moreno Taquería</td>\n",
              "            <td>México D.F.</td>\n",
              "        </tr>\n",
              "        <tr>\n",
              "            <td>Around the Horn</td>\n",
              "            <td>London</td>\n",
              "        </tr>\n",
              "        <tr>\n",
              "            <td>Berglunds snabbköp</td>\n",
              "            <td>Luleå</td>\n",
              "        </tr>\n",
              "    </tbody>\n",
              "</table>"
            ],
            "text/plain": [
              "[('Alfreds Futterkiste', 'Berlin'),\n",
              " ('Ana Trujillo Emparedados y helados', 'México D.F.'),\n",
              " ('Antonio Moreno Taquería', 'México D.F.'),\n",
              " ('Around the Horn', 'London'),\n",
              " ('Berglunds snabbköp', 'Luleå')]"
            ]
          },
          "metadata": {},
          "execution_count": 69
        }
      ]
    },
    {
      "cell_type": "code",
      "metadata": {
        "colab": {
          "base_uri": "https://localhost:8080/",
          "height": 182
        },
        "id": "0Ad6v5XOXGUU",
        "outputId": "51a40089-dada-4652-fd52-27eb406dee6b"
      },
      "source": [
        "%%sql\n",
        "SELECT * FROM Customers WHERE Country='Mexico';"
      ],
      "execution_count": null,
      "outputs": [
        {
          "output_type": "stream",
          "name": "stdout",
          "text": [
            " * sqlite:///customers.db\n",
            "Done.\n"
          ]
        },
        {
          "output_type": "execute_result",
          "data": {
            "text/html": [
              "<table>\n",
              "    <thead>\n",
              "        <tr>\n",
              "            <th>CustomerID</th>\n",
              "            <th>CustomerName</th>\n",
              "            <th>ContactName</th>\n",
              "            <th>Address</th>\n",
              "            <th>City</th>\n",
              "            <th>PostalCode</th>\n",
              "            <th>Country</th>\n",
              "        </tr>\n",
              "    </thead>\n",
              "    <tbody>\n",
              "        <tr>\n",
              "            <td>2</td>\n",
              "            <td>Ana Trujillo Emparedados y helados</td>\n",
              "            <td>Ana Trujillo</td>\n",
              "            <td>Avda. de la Constitución 2222</td>\n",
              "            <td>México D.F.</td>\n",
              "            <td>5021</td>\n",
              "            <td>Mexico</td>\n",
              "        </tr>\n",
              "        <tr>\n",
              "            <td>3</td>\n",
              "            <td>Antonio Moreno Taquería</td>\n",
              "            <td>Antonio Moreno</td>\n",
              "            <td>Mataderos 2312</td>\n",
              "            <td>México D.F.</td>\n",
              "            <td>5023</td>\n",
              "            <td>Mexico</td>\n",
              "        </tr>\n",
              "        <tr>\n",
              "            <td>13</td>\n",
              "            <td>Centro comercial Moctezuma</td>\n",
              "            <td>Francisco Chang</td>\n",
              "            <td>Sierras de Granada 9993</td>\n",
              "            <td>México D.F.</td>\n",
              "            <td>5022</td>\n",
              "            <td>Mexico</td>\n",
              "        </tr>\n",
              "        <tr>\n",
              "            <td>58</td>\n",
              "            <td>Pericles Comidas clásicas</td>\n",
              "            <td>Guillermo Fernández</td>\n",
              "            <td>Calle Dr. Jorge Cash 321</td>\n",
              "            <td>México D.F.</td>\n",
              "            <td>5033</td>\n",
              "            <td>Mexico</td>\n",
              "        </tr>\n",
              "        <tr>\n",
              "            <td>80</td>\n",
              "            <td>Tortuga Restaurante</td>\n",
              "            <td>Miguel Angel Paolino</td>\n",
              "            <td>Avda. Azteca 123</td>\n",
              "            <td>México D.F.</td>\n",
              "            <td>5033</td>\n",
              "            <td>Mexico</td>\n",
              "        </tr>\n",
              "    </tbody>\n",
              "</table>"
            ],
            "text/plain": [
              "[(2, 'Ana Trujillo Emparedados y helados', 'Ana Trujillo', 'Avda. de la Constitución 2222', 'México D.F.', 5021, 'Mexico'),\n",
              " (3, 'Antonio Moreno Taquería', 'Antonio Moreno', 'Mataderos 2312', 'México D.F.', 5023, 'Mexico'),\n",
              " (13, 'Centro comercial Moctezuma', 'Francisco Chang', 'Sierras de Granada 9993', 'México D.F.', 5022, 'Mexico'),\n",
              " (58, 'Pericles Comidas clásicas', 'Guillermo Fernández', 'Calle Dr. Jorge Cash 321', 'México D.F.', 5033, 'Mexico'),\n",
              " (80, 'Tortuga Restaurante', 'Miguel Angel Paolino', 'Avda. Azteca 123', 'México D.F.', 5033, 'Mexico')]"
            ]
          },
          "metadata": {},
          "execution_count": 70
        }
      ]
    },
    {
      "cell_type": "code",
      "metadata": {
        "id": "A4k-erGIXSze"
      },
      "source": [
        "%%sql\n",
        "SELECT * FROM Customers WHERE Country='Mexico';"
      ],
      "execution_count": null,
      "outputs": []
    },
    {
      "cell_type": "code",
      "metadata": {
        "colab": {
          "base_uri": "https://localhost:8080/",
          "height": 96
        },
        "id": "mlP59KCeXeot",
        "outputId": "3ee4d0af-d819-4bf3-ac81-bfc598d068e3"
      },
      "source": [
        "%%sql\n",
        "SELECT * FROM Customers\n",
        "WHERE Country='Germany' AND City='Berlin';"
      ],
      "execution_count": null,
      "outputs": [
        {
          "output_type": "stream",
          "name": "stdout",
          "text": [
            " * sqlite:///customers.db\n",
            "Done.\n"
          ]
        },
        {
          "output_type": "execute_result",
          "data": {
            "text/html": [
              "<table>\n",
              "    <thead>\n",
              "        <tr>\n",
              "            <th>CustomerID</th>\n",
              "            <th>CustomerName</th>\n",
              "            <th>ContactName</th>\n",
              "            <th>Address</th>\n",
              "            <th>City</th>\n",
              "            <th>PostalCode</th>\n",
              "            <th>Country</th>\n",
              "        </tr>\n",
              "    </thead>\n",
              "    <tbody>\n",
              "        <tr>\n",
              "            <td>1</td>\n",
              "            <td>Alfreds Futterkiste</td>\n",
              "            <td>Maria Anders</td>\n",
              "            <td>Obere Str. 57</td>\n",
              "            <td>Berlin</td>\n",
              "            <td>12209</td>\n",
              "            <td>Germany</td>\n",
              "        </tr>\n",
              "    </tbody>\n",
              "</table>"
            ],
            "text/plain": [
              "[(1, 'Alfreds Futterkiste', 'Maria Anders', 'Obere Str. 57', 'Berlin', 12209, 'Germany')]"
            ]
          },
          "metadata": {},
          "execution_count": 71
        }
      ]
    },
    {
      "cell_type": "code",
      "metadata": {
        "colab": {
          "base_uri": "https://localhost:8080/",
          "height": 118
        },
        "id": "xbUUuuynXpsn",
        "outputId": "9a2ffee1-cca4-4124-8900-9f1485a6834c"
      },
      "source": [
        "%%sql\n",
        "SELECT * FROM Customers WHERE City='Berlin' OR City='München';"
      ],
      "execution_count": null,
      "outputs": [
        {
          "output_type": "stream",
          "name": "stdout",
          "text": [
            " * sqlite:///customers.db\n",
            "Done.\n"
          ]
        },
        {
          "output_type": "execute_result",
          "data": {
            "text/html": [
              "<table>\n",
              "    <thead>\n",
              "        <tr>\n",
              "            <th>CustomerID</th>\n",
              "            <th>CustomerName</th>\n",
              "            <th>ContactName</th>\n",
              "            <th>Address</th>\n",
              "            <th>City</th>\n",
              "            <th>PostalCode</th>\n",
              "            <th>Country</th>\n",
              "        </tr>\n",
              "    </thead>\n",
              "    <tbody>\n",
              "        <tr>\n",
              "            <td>1</td>\n",
              "            <td>Alfreds Futterkiste</td>\n",
              "            <td>Maria Anders</td>\n",
              "            <td>Obere Str. 57</td>\n",
              "            <td>Berlin</td>\n",
              "            <td>12209</td>\n",
              "            <td>Germany</td>\n",
              "        </tr>\n",
              "        <tr>\n",
              "            <td>25</td>\n",
              "            <td>Frankenversand</td>\n",
              "            <td>Peter Franken</td>\n",
              "            <td>Berliner Platz 43</td>\n",
              "            <td>München</td>\n",
              "            <td>80805</td>\n",
              "            <td>Germany</td>\n",
              "        </tr>\n",
              "    </tbody>\n",
              "</table>"
            ],
            "text/plain": [
              "[(1, 'Alfreds Futterkiste', 'Maria Anders', 'Obere Str. 57', 'Berlin', 12209, 'Germany'),\n",
              " (25, 'Frankenversand', 'Peter Franken', 'Berliner Platz 43', 'München', 80805, 'Germany')]"
            ]
          },
          "metadata": {},
          "execution_count": 73
        }
      ]
    },
    {
      "cell_type": "code",
      "metadata": {
        "colab": {
          "base_uri": "https://localhost:8080/",
          "height": 182
        },
        "id": "S--tHAawXv1_",
        "outputId": "7634db6b-b48d-429c-c23e-dd7496bef886"
      },
      "source": [
        "%%sql\n",
        "SELECT * FROM Customers WHERE NOT Country='Germany' LIMIT 5;"
      ],
      "execution_count": null,
      "outputs": [
        {
          "output_type": "stream",
          "name": "stdout",
          "text": [
            " * sqlite:///customers.db\n",
            "Done.\n"
          ]
        },
        {
          "output_type": "execute_result",
          "data": {
            "text/html": [
              "<table>\n",
              "    <thead>\n",
              "        <tr>\n",
              "            <th>CustomerID</th>\n",
              "            <th>CustomerName</th>\n",
              "            <th>ContactName</th>\n",
              "            <th>Address</th>\n",
              "            <th>City</th>\n",
              "            <th>PostalCode</th>\n",
              "            <th>Country</th>\n",
              "        </tr>\n",
              "    </thead>\n",
              "    <tbody>\n",
              "        <tr>\n",
              "            <td>2</td>\n",
              "            <td>Ana Trujillo Emparedados y helados</td>\n",
              "            <td>Ana Trujillo</td>\n",
              "            <td>Avda. de la Constitución 2222</td>\n",
              "            <td>México D.F.</td>\n",
              "            <td>5021</td>\n",
              "            <td>Mexico</td>\n",
              "        </tr>\n",
              "        <tr>\n",
              "            <td>3</td>\n",
              "            <td>Antonio Moreno Taquería</td>\n",
              "            <td>Antonio Moreno</td>\n",
              "            <td>Mataderos 2312</td>\n",
              "            <td>México D.F.</td>\n",
              "            <td>5023</td>\n",
              "            <td>Mexico</td>\n",
              "        </tr>\n",
              "        <tr>\n",
              "            <td>4</td>\n",
              "            <td>Around the Horn</td>\n",
              "            <td>Thomas Hardy</td>\n",
              "            <td>120 Hanover Sq.</td>\n",
              "            <td>London</td>\n",
              "            <td>WA1 1DP</td>\n",
              "            <td>UK</td>\n",
              "        </tr>\n",
              "        <tr>\n",
              "            <td>5</td>\n",
              "            <td>Berglunds snabbköp</td>\n",
              "            <td>Christina Berglund</td>\n",
              "            <td>Berguvsvägen 8</td>\n",
              "            <td>Luleå</td>\n",
              "            <td>S-958 22</td>\n",
              "            <td>Sweden</td>\n",
              "        </tr>\n",
              "        <tr>\n",
              "            <td>7</td>\n",
              "            <td>Blondel père et fils</td>\n",
              "            <td>Frédérique Citeaux</td>\n",
              "            <td>24, place Kléber</td>\n",
              "            <td>Strasbourg</td>\n",
              "            <td>67000</td>\n",
              "            <td>France</td>\n",
              "        </tr>\n",
              "    </tbody>\n",
              "</table>"
            ],
            "text/plain": [
              "[(2, 'Ana Trujillo Emparedados y helados', 'Ana Trujillo', 'Avda. de la Constitución 2222', 'México D.F.', 5021, 'Mexico'),\n",
              " (3, 'Antonio Moreno Taquería', 'Antonio Moreno', 'Mataderos 2312', 'México D.F.', 5023, 'Mexico'),\n",
              " (4, 'Around the Horn', 'Thomas Hardy', '120 Hanover Sq.', 'London', 'WA1 1DP', 'UK'),\n",
              " (5, 'Berglunds snabbköp', 'Christina Berglund', 'Berguvsvägen 8', 'Luleå', 'S-958 22', 'Sweden'),\n",
              " (7, 'Blondel père et fils', 'Frédérique Citeaux', '24, place Kléber', 'Strasbourg', 67000, 'France')]"
            ]
          },
          "metadata": {},
          "execution_count": 75
        }
      ]
    },
    {
      "cell_type": "code",
      "metadata": {
        "colab": {
          "base_uri": "https://localhost:8080/",
          "height": 118
        },
        "id": "QKa1CmdhX-g_",
        "outputId": "b04b106e-fa17-4709-f220-a1e89731ce1a"
      },
      "source": [
        "%%sql\n",
        "SELECT * FROM Customers WHERE Country='Germany' AND (City='Berlin' OR City='München');"
      ],
      "execution_count": null,
      "outputs": [
        {
          "output_type": "stream",
          "name": "stdout",
          "text": [
            " * sqlite:///customers.db\n",
            "Done.\n"
          ]
        },
        {
          "output_type": "execute_result",
          "data": {
            "text/html": [
              "<table>\n",
              "    <thead>\n",
              "        <tr>\n",
              "            <th>CustomerID</th>\n",
              "            <th>CustomerName</th>\n",
              "            <th>ContactName</th>\n",
              "            <th>Address</th>\n",
              "            <th>City</th>\n",
              "            <th>PostalCode</th>\n",
              "            <th>Country</th>\n",
              "        </tr>\n",
              "    </thead>\n",
              "    <tbody>\n",
              "        <tr>\n",
              "            <td>1</td>\n",
              "            <td>Alfreds Futterkiste</td>\n",
              "            <td>Maria Anders</td>\n",
              "            <td>Obere Str. 57</td>\n",
              "            <td>Berlin</td>\n",
              "            <td>12209</td>\n",
              "            <td>Germany</td>\n",
              "        </tr>\n",
              "        <tr>\n",
              "            <td>25</td>\n",
              "            <td>Frankenversand</td>\n",
              "            <td>Peter Franken</td>\n",
              "            <td>Berliner Platz 43</td>\n",
              "            <td>München</td>\n",
              "            <td>80805</td>\n",
              "            <td>Germany</td>\n",
              "        </tr>\n",
              "    </tbody>\n",
              "</table>"
            ],
            "text/plain": [
              "[(1, 'Alfreds Futterkiste', 'Maria Anders', 'Obere Str. 57', 'Berlin', 12209, 'Germany'),\n",
              " (25, 'Frankenversand', 'Peter Franken', 'Berliner Platz 43', 'München', 80805, 'Germany')]"
            ]
          },
          "metadata": {},
          "execution_count": 76
        }
      ]
    },
    {
      "cell_type": "code",
      "metadata": {
        "colab": {
          "base_uri": "https://localhost:8080/",
          "height": 182
        },
        "id": "HAmtkPZaYHlA",
        "outputId": "2dc32020-a066-4d32-bb69-a47b11b372ad"
      },
      "source": [
        "%%sql\n",
        "SELECT * FROM Customers WHERE NOT Country='Germany' AND NOT Country='USA' LIMIT 5;"
      ],
      "execution_count": null,
      "outputs": [
        {
          "output_type": "stream",
          "name": "stdout",
          "text": [
            " * sqlite:///customers.db\n",
            "Done.\n"
          ]
        },
        {
          "output_type": "execute_result",
          "data": {
            "text/html": [
              "<table>\n",
              "    <thead>\n",
              "        <tr>\n",
              "            <th>CustomerID</th>\n",
              "            <th>CustomerName</th>\n",
              "            <th>ContactName</th>\n",
              "            <th>Address</th>\n",
              "            <th>City</th>\n",
              "            <th>PostalCode</th>\n",
              "            <th>Country</th>\n",
              "        </tr>\n",
              "    </thead>\n",
              "    <tbody>\n",
              "        <tr>\n",
              "            <td>2</td>\n",
              "            <td>Ana Trujillo Emparedados y helados</td>\n",
              "            <td>Ana Trujillo</td>\n",
              "            <td>Avda. de la Constitución 2222</td>\n",
              "            <td>México D.F.</td>\n",
              "            <td>5021</td>\n",
              "            <td>Mexico</td>\n",
              "        </tr>\n",
              "        <tr>\n",
              "            <td>3</td>\n",
              "            <td>Antonio Moreno Taquería</td>\n",
              "            <td>Antonio Moreno</td>\n",
              "            <td>Mataderos 2312</td>\n",
              "            <td>México D.F.</td>\n",
              "            <td>5023</td>\n",
              "            <td>Mexico</td>\n",
              "        </tr>\n",
              "        <tr>\n",
              "            <td>4</td>\n",
              "            <td>Around the Horn</td>\n",
              "            <td>Thomas Hardy</td>\n",
              "            <td>120 Hanover Sq.</td>\n",
              "            <td>London</td>\n",
              "            <td>WA1 1DP</td>\n",
              "            <td>UK</td>\n",
              "        </tr>\n",
              "        <tr>\n",
              "            <td>5</td>\n",
              "            <td>Berglunds snabbköp</td>\n",
              "            <td>Christina Berglund</td>\n",
              "            <td>Berguvsvägen 8</td>\n",
              "            <td>Luleå</td>\n",
              "            <td>S-958 22</td>\n",
              "            <td>Sweden</td>\n",
              "        </tr>\n",
              "        <tr>\n",
              "            <td>7</td>\n",
              "            <td>Blondel père et fils</td>\n",
              "            <td>Frédérique Citeaux</td>\n",
              "            <td>24, place Kléber</td>\n",
              "            <td>Strasbourg</td>\n",
              "            <td>67000</td>\n",
              "            <td>France</td>\n",
              "        </tr>\n",
              "    </tbody>\n",
              "</table>"
            ],
            "text/plain": [
              "[(2, 'Ana Trujillo Emparedados y helados', 'Ana Trujillo', 'Avda. de la Constitución 2222', 'México D.F.', 5021, 'Mexico'),\n",
              " (3, 'Antonio Moreno Taquería', 'Antonio Moreno', 'Mataderos 2312', 'México D.F.', 5023, 'Mexico'),\n",
              " (4, 'Around the Horn', 'Thomas Hardy', '120 Hanover Sq.', 'London', 'WA1 1DP', 'UK'),\n",
              " (5, 'Berglunds snabbköp', 'Christina Berglund', 'Berguvsvägen 8', 'Luleå', 'S-958 22', 'Sweden'),\n",
              " (7, 'Blondel père et fils', 'Frédérique Citeaux', '24, place Kléber', 'Strasbourg', 67000, 'France')]"
            ]
          },
          "metadata": {},
          "execution_count": 78
        }
      ]
    },
    {
      "cell_type": "code",
      "metadata": {
        "colab": {
          "base_uri": "https://localhost:8080/",
          "height": 182
        },
        "id": "NMkE34YyYZnS",
        "outputId": "9767b524-111d-444f-edc2-21bc35fcf625"
      },
      "source": [
        "%%sql\n",
        "SELECT * FROM Customers ORDER BY Country LIMIT 5;"
      ],
      "execution_count": null,
      "outputs": [
        {
          "output_type": "stream",
          "name": "stdout",
          "text": [
            " * sqlite:///customers.db\n",
            "Done.\n"
          ]
        },
        {
          "output_type": "execute_result",
          "data": {
            "text/html": [
              "<table>\n",
              "    <thead>\n",
              "        <tr>\n",
              "            <th>CustomerID</th>\n",
              "            <th>CustomerName</th>\n",
              "            <th>ContactName</th>\n",
              "            <th>Address</th>\n",
              "            <th>City</th>\n",
              "            <th>PostalCode</th>\n",
              "            <th>Country</th>\n",
              "        </tr>\n",
              "    </thead>\n",
              "    <tbody>\n",
              "        <tr>\n",
              "            <td>12</td>\n",
              "            <td>Cactus Comidas para llevar</td>\n",
              "            <td>Patricio Simpson</td>\n",
              "            <td>Cerrito 333</td>\n",
              "            <td>Buenos Aires</td>\n",
              "            <td>1010</td>\n",
              "            <td>Argentina</td>\n",
              "        </tr>\n",
              "        <tr>\n",
              "            <td>54</td>\n",
              "            <td>Océano Atlántico Ltda.</td>\n",
              "            <td>Yvonne Moncada</td>\n",
              "            <td>Ing. Gustavo Moncada 8585 Piso 20-A</td>\n",
              "            <td>Buenos Aires</td>\n",
              "            <td>1010</td>\n",
              "            <td>Argentina</td>\n",
              "        </tr>\n",
              "        <tr>\n",
              "            <td>64</td>\n",
              "            <td>Rancho grande</td>\n",
              "            <td>Sergio Gutiérrez</td>\n",
              "            <td>Av. del Libertador 900</td>\n",
              "            <td>Buenos Aires</td>\n",
              "            <td>1010</td>\n",
              "            <td>Argentina</td>\n",
              "        </tr>\n",
              "        <tr>\n",
              "            <td>20</td>\n",
              "            <td>Ernst Handel</td>\n",
              "            <td>Roland Mendel</td>\n",
              "            <td>Kirchgasse 6</td>\n",
              "            <td>Graz</td>\n",
              "            <td>8010</td>\n",
              "            <td>Austria</td>\n",
              "        </tr>\n",
              "        <tr>\n",
              "            <td>59</td>\n",
              "            <td>Piccolo und mehr</td>\n",
              "            <td>Georg Pipps</td>\n",
              "            <td>Geislweg 14</td>\n",
              "            <td>Salzburg</td>\n",
              "            <td>5020</td>\n",
              "            <td>Austria</td>\n",
              "        </tr>\n",
              "    </tbody>\n",
              "</table>"
            ],
            "text/plain": [
              "[(12, 'Cactus Comidas para llevar', 'Patricio Simpson', 'Cerrito 333', 'Buenos Aires', 1010, 'Argentina'),\n",
              " (54, 'Océano Atlántico Ltda.', 'Yvonne Moncada', 'Ing. Gustavo Moncada 8585 Piso 20-A', 'Buenos Aires', 1010, 'Argentina'),\n",
              " (64, 'Rancho grande', 'Sergio Gutiérrez', 'Av. del Libertador 900', 'Buenos Aires', 1010, 'Argentina'),\n",
              " (20, 'Ernst Handel', 'Roland Mendel', 'Kirchgasse 6', 'Graz', 8010, 'Austria'),\n",
              " (59, 'Piccolo und mehr', 'Georg Pipps', 'Geislweg 14', 'Salzburg', 5020, 'Austria')]"
            ]
          },
          "metadata": {},
          "execution_count": 80
        }
      ]
    },
    {
      "cell_type": "code",
      "metadata": {
        "colab": {
          "base_uri": "https://localhost:8080/",
          "height": 182
        },
        "id": "Ny1HkyI9Yg4y",
        "outputId": "bcdaa22e-afd1-4974-85c2-7020d3d70bc8"
      },
      "source": [
        "%%sql\n",
        "SELECT * FROM Customers ORDER BY Country DESC LIMIT 5;"
      ],
      "execution_count": null,
      "outputs": [
        {
          "output_type": "stream",
          "name": "stdout",
          "text": [
            " * sqlite:///customers.db\n",
            "Done.\n"
          ]
        },
        {
          "output_type": "execute_result",
          "data": {
            "text/html": [
              "<table>\n",
              "    <thead>\n",
              "        <tr>\n",
              "            <th>CustomerID</th>\n",
              "            <th>CustomerName</th>\n",
              "            <th>ContactName</th>\n",
              "            <th>Address</th>\n",
              "            <th>City</th>\n",
              "            <th>PostalCode</th>\n",
              "            <th>Country</th>\n",
              "        </tr>\n",
              "    </thead>\n",
              "    <tbody>\n",
              "        <tr>\n",
              "            <td>33</td>\n",
              "            <td>GROSELLA-Restaurante</td>\n",
              "            <td>Manuel Pereira</td>\n",
              "            <td>5ª Ave. Los Palos Grandes</td>\n",
              "            <td>Caracas</td>\n",
              "            <td>1081</td>\n",
              "            <td>Venezuela</td>\n",
              "        </tr>\n",
              "        <tr>\n",
              "            <td>35</td>\n",
              "            <td>HILARIÓN-Abastos</td>\n",
              "            <td>Carlos Hernández</td>\n",
              "            <td>Carrera 22 con Ave. Carlos Soublette #8-35</td>\n",
              "            <td>San Cristóbal</td>\n",
              "            <td>5022</td>\n",
              "            <td>Venezuela</td>\n",
              "        </tr>\n",
              "        <tr>\n",
              "            <td>46</td>\n",
              "            <td>LILA-Supermercado</td>\n",
              "            <td>Carlos González</td>\n",
              "            <td>Carrera 52 con Ave. Bolívar #65-98 Llano Largo</td>\n",
              "            <td>Barquisimeto</td>\n",
              "            <td>3508</td>\n",
              "            <td>Venezuela</td>\n",
              "        </tr>\n",
              "        <tr>\n",
              "            <td>47</td>\n",
              "            <td>LINO-Delicateses</td>\n",
              "            <td>Felipe Izquierdo</td>\n",
              "            <td>Ave. 5 de Mayo Porlamar</td>\n",
              "            <td>I. de Margarita</td>\n",
              "            <td>4980</td>\n",
              "            <td>Venezuela</td>\n",
              "        </tr>\n",
              "        <tr>\n",
              "            <td>32</td>\n",
              "            <td>Great Lakes Food Market</td>\n",
              "            <td>Howard Snyder</td>\n",
              "            <td>2732 Baker Blvd.</td>\n",
              "            <td>Eugene</td>\n",
              "            <td>97403</td>\n",
              "            <td>USA</td>\n",
              "        </tr>\n",
              "    </tbody>\n",
              "</table>"
            ],
            "text/plain": [
              "[(33, 'GROSELLA-Restaurante', 'Manuel Pereira', '5ª Ave. Los Palos Grandes', 'Caracas', 1081, 'Venezuela'),\n",
              " (35, 'HILARIÓN-Abastos', 'Carlos Hernández', 'Carrera 22 con Ave. Carlos Soublette #8-35', 'San Cristóbal', 5022, 'Venezuela'),\n",
              " (46, 'LILA-Supermercado', 'Carlos González', 'Carrera 52 con Ave. Bolívar #65-98 Llano Largo', 'Barquisimeto', 3508, 'Venezuela'),\n",
              " (47, 'LINO-Delicateses', 'Felipe Izquierdo', 'Ave. 5 de Mayo Porlamar', 'I. de Margarita', 4980, 'Venezuela'),\n",
              " (32, 'Great Lakes Food Market', 'Howard Snyder', '2732 Baker Blvd.', 'Eugene', 97403, 'USA')]"
            ]
          },
          "metadata": {},
          "execution_count": 82
        }
      ]
    },
    {
      "cell_type": "code",
      "metadata": {
        "colab": {
          "base_uri": "https://localhost:8080/",
          "height": 182
        },
        "id": "hdjwpJlnY0Kk",
        "outputId": "0cb8f770-c776-447e-cfab-d3200db8828c"
      },
      "source": [
        "%%sql\n",
        "SELECT * FROM Customers ORDER BY Country, CustomerName LIMIT 5;"
      ],
      "execution_count": null,
      "outputs": [
        {
          "output_type": "stream",
          "name": "stdout",
          "text": [
            " * sqlite:///customers.db\n",
            "Done.\n"
          ]
        },
        {
          "output_type": "execute_result",
          "data": {
            "text/html": [
              "<table>\n",
              "    <thead>\n",
              "        <tr>\n",
              "            <th>CustomerID</th>\n",
              "            <th>CustomerName</th>\n",
              "            <th>ContactName</th>\n",
              "            <th>Address</th>\n",
              "            <th>City</th>\n",
              "            <th>PostalCode</th>\n",
              "            <th>Country</th>\n",
              "        </tr>\n",
              "    </thead>\n",
              "    <tbody>\n",
              "        <tr>\n",
              "            <td>12</td>\n",
              "            <td>Cactus Comidas para llevar</td>\n",
              "            <td>Patricio Simpson</td>\n",
              "            <td>Cerrito 333</td>\n",
              "            <td>Buenos Aires</td>\n",
              "            <td>1010</td>\n",
              "            <td>Argentina</td>\n",
              "        </tr>\n",
              "        <tr>\n",
              "            <td>54</td>\n",
              "            <td>Océano Atlántico Ltda.</td>\n",
              "            <td>Yvonne Moncada</td>\n",
              "            <td>Ing. Gustavo Moncada 8585 Piso 20-A</td>\n",
              "            <td>Buenos Aires</td>\n",
              "            <td>1010</td>\n",
              "            <td>Argentina</td>\n",
              "        </tr>\n",
              "        <tr>\n",
              "            <td>64</td>\n",
              "            <td>Rancho grande</td>\n",
              "            <td>Sergio Gutiérrez</td>\n",
              "            <td>Av. del Libertador 900</td>\n",
              "            <td>Buenos Aires</td>\n",
              "            <td>1010</td>\n",
              "            <td>Argentina</td>\n",
              "        </tr>\n",
              "        <tr>\n",
              "            <td>20</td>\n",
              "            <td>Ernst Handel</td>\n",
              "            <td>Roland Mendel</td>\n",
              "            <td>Kirchgasse 6</td>\n",
              "            <td>Graz</td>\n",
              "            <td>8010</td>\n",
              "            <td>Austria</td>\n",
              "        </tr>\n",
              "        <tr>\n",
              "            <td>59</td>\n",
              "            <td>Piccolo und mehr</td>\n",
              "            <td>Georg Pipps</td>\n",
              "            <td>Geislweg 14</td>\n",
              "            <td>Salzburg</td>\n",
              "            <td>5020</td>\n",
              "            <td>Austria</td>\n",
              "        </tr>\n",
              "    </tbody>\n",
              "</table>"
            ],
            "text/plain": [
              "[(12, 'Cactus Comidas para llevar', 'Patricio Simpson', 'Cerrito 333', 'Buenos Aires', 1010, 'Argentina'),\n",
              " (54, 'Océano Atlántico Ltda.', 'Yvonne Moncada', 'Ing. Gustavo Moncada 8585 Piso 20-A', 'Buenos Aires', 1010, 'Argentina'),\n",
              " (64, 'Rancho grande', 'Sergio Gutiérrez', 'Av. del Libertador 900', 'Buenos Aires', 1010, 'Argentina'),\n",
              " (20, 'Ernst Handel', 'Roland Mendel', 'Kirchgasse 6', 'Graz', 8010, 'Austria'),\n",
              " (59, 'Piccolo und mehr', 'Georg Pipps', 'Geislweg 14', 'Salzburg', 5020, 'Austria')]"
            ]
          },
          "metadata": {},
          "execution_count": 84
        }
      ]
    },
    {
      "cell_type": "code",
      "metadata": {
        "colab": {
          "base_uri": "https://localhost:8080/",
          "height": 182
        },
        "id": "2ruQldE4Y_mb",
        "outputId": "222e7ce3-6c38-4035-852a-c2dc326b3f5e"
      },
      "source": [
        "%%sql\n",
        "SELECT * FROM Customers ORDER BY Country ASC, CustomerName DESC LIMIT 5;"
      ],
      "execution_count": null,
      "outputs": [
        {
          "output_type": "stream",
          "name": "stdout",
          "text": [
            " * sqlite:///customers.db\n",
            "Done.\n"
          ]
        },
        {
          "output_type": "execute_result",
          "data": {
            "text/html": [
              "<table>\n",
              "    <thead>\n",
              "        <tr>\n",
              "            <th>CustomerID</th>\n",
              "            <th>CustomerName</th>\n",
              "            <th>ContactName</th>\n",
              "            <th>Address</th>\n",
              "            <th>City</th>\n",
              "            <th>PostalCode</th>\n",
              "            <th>Country</th>\n",
              "        </tr>\n",
              "    </thead>\n",
              "    <tbody>\n",
              "        <tr>\n",
              "            <td>64</td>\n",
              "            <td>Rancho grande</td>\n",
              "            <td>Sergio Gutiérrez</td>\n",
              "            <td>Av. del Libertador 900</td>\n",
              "            <td>Buenos Aires</td>\n",
              "            <td>1010</td>\n",
              "            <td>Argentina</td>\n",
              "        </tr>\n",
              "        <tr>\n",
              "            <td>54</td>\n",
              "            <td>Océano Atlántico Ltda.</td>\n",
              "            <td>Yvonne Moncada</td>\n",
              "            <td>Ing. Gustavo Moncada 8585 Piso 20-A</td>\n",
              "            <td>Buenos Aires</td>\n",
              "            <td>1010</td>\n",
              "            <td>Argentina</td>\n",
              "        </tr>\n",
              "        <tr>\n",
              "            <td>12</td>\n",
              "            <td>Cactus Comidas para llevar</td>\n",
              "            <td>Patricio Simpson</td>\n",
              "            <td>Cerrito 333</td>\n",
              "            <td>Buenos Aires</td>\n",
              "            <td>1010</td>\n",
              "            <td>Argentina</td>\n",
              "        </tr>\n",
              "        <tr>\n",
              "            <td>59</td>\n",
              "            <td>Piccolo und mehr</td>\n",
              "            <td>Georg Pipps</td>\n",
              "            <td>Geislweg 14</td>\n",
              "            <td>Salzburg</td>\n",
              "            <td>5020</td>\n",
              "            <td>Austria</td>\n",
              "        </tr>\n",
              "        <tr>\n",
              "            <td>20</td>\n",
              "            <td>Ernst Handel</td>\n",
              "            <td>Roland Mendel</td>\n",
              "            <td>Kirchgasse 6</td>\n",
              "            <td>Graz</td>\n",
              "            <td>8010</td>\n",
              "            <td>Austria</td>\n",
              "        </tr>\n",
              "    </tbody>\n",
              "</table>"
            ],
            "text/plain": [
              "[(64, 'Rancho grande', 'Sergio Gutiérrez', 'Av. del Libertador 900', 'Buenos Aires', 1010, 'Argentina'),\n",
              " (54, 'Océano Atlántico Ltda.', 'Yvonne Moncada', 'Ing. Gustavo Moncada 8585 Piso 20-A', 'Buenos Aires', 1010, 'Argentina'),\n",
              " (12, 'Cactus Comidas para llevar', 'Patricio Simpson', 'Cerrito 333', 'Buenos Aires', 1010, 'Argentina'),\n",
              " (59, 'Piccolo und mehr', 'Georg Pipps', 'Geislweg 14', 'Salzburg', 5020, 'Austria'),\n",
              " (20, 'Ernst Handel', 'Roland Mendel', 'Kirchgasse 6', 'Graz', 8010, 'Austria')]"
            ]
          },
          "metadata": {},
          "execution_count": 86
        }
      ]
    },
    {
      "cell_type": "code",
      "metadata": {
        "colab": {
          "base_uri": "https://localhost:8080/"
        },
        "id": "ThKUlpJNZMCs",
        "outputId": "1833ca4c-283e-4e4b-9cca-ed7eefe81726"
      },
      "source": [
        "%%sql\n",
        "INSERT INTO Customers (CustomerName, ContactName, Address, City, PostalCode, Country)\n",
        "VALUES ('Cardinal', 'Tom B. Erichsen', 'Skagen 21', 'Stavanger', '4006', 'Norway');"
      ],
      "execution_count": null,
      "outputs": [
        {
          "output_type": "stream",
          "name": "stdout",
          "text": [
            " * sqlite:///customers.db\n",
            "1 rows affected.\n"
          ]
        },
        {
          "output_type": "execute_result",
          "data": {
            "text/plain": [
              "[]"
            ]
          },
          "metadata": {},
          "execution_count": 87
        }
      ]
    },
    {
      "cell_type": "code",
      "metadata": {
        "colab": {
          "base_uri": "https://localhost:8080/"
        },
        "id": "tVYTA1HzZVTF",
        "outputId": "77706515-b97a-48e7-e826-b9b768b981ce"
      },
      "source": [
        "%%sql\n",
        "UPDATE Customers SET ContactName = 'Alfred Schmidt', City= 'Frankfurt' WHERE CustomerID = 1;"
      ],
      "execution_count": null,
      "outputs": [
        {
          "output_type": "stream",
          "name": "stdout",
          "text": [
            " * sqlite:///customers.db\n",
            "1 rows affected.\n"
          ]
        },
        {
          "output_type": "execute_result",
          "data": {
            "text/plain": [
              "[]"
            ]
          },
          "metadata": {},
          "execution_count": 89
        }
      ]
    },
    {
      "cell_type": "code",
      "metadata": {
        "colab": {
          "base_uri": "https://localhost:8080/"
        },
        "id": "Hvkl8AGfbwD9",
        "outputId": "76efa1e1-99ff-457a-d689-35b26c8844be"
      },
      "source": [
        "%%sql\n",
        "DELETE FROM Customers WHERE CustomerName='Alfreds Futterkiste';"
      ],
      "execution_count": null,
      "outputs": [
        {
          "output_type": "stream",
          "name": "stdout",
          "text": [
            " * sqlite:///customers.db\n",
            "1 rows affected.\n"
          ]
        },
        {
          "output_type": "execute_result",
          "data": {
            "text/plain": [
              "[]"
            ]
          },
          "metadata": {},
          "execution_count": 90
        }
      ]
    },
    {
      "cell_type": "code",
      "metadata": {
        "colab": {
          "base_uri": "https://localhost:8080/"
        },
        "id": "EvsWq5QAb7Zv",
        "outputId": "68fc9010-0194-4c4a-8dac-d681cd49023c"
      },
      "source": [
        "%%sql\n",
        "SELECT * FROM Customers FETCH 3 ROWS ONLY;"
      ],
      "execution_count": null,
      "outputs": [
        {
          "output_type": "stream",
          "name": "stdout",
          "text": [
            " * sqlite:///customers.db\n",
            "(sqlite3.OperationalError) near \"3\": syntax error\n",
            "[SQL: SELECT * FROM Customers FETCH 3 ROWS ONLY;]\n",
            "(Background on this error at: https://sqlalche.me/e/14/e3q8)\n"
          ]
        }
      ]
    },
    {
      "cell_type": "code",
      "metadata": {
        "colab": {
          "base_uri": "https://localhost:8080/"
        },
        "id": "Br9WEJ1fdE1U",
        "outputId": "af749118-8cc3-4c91-c29f-f694ad115960"
      },
      "source": [
        "%%sql\n",
        "CREATE TABLE Products (\n",
        "    ProductID INTEGER,\n",
        "    ProductName TEXT NOT NULL,\n",
        "    SupplierID INTEGER,\n",
        "    CategoryID INTEGER,\n",
        "    Unit TEXT NOT NULL,\n",
        "    Price REAL\n",
        ");"
      ],
      "execution_count": null,
      "outputs": [
        {
          "output_type": "stream",
          "name": "stdout",
          "text": [
            " * sqlite:///customers.db\n",
            "Done.\n"
          ]
        },
        {
          "output_type": "execute_result",
          "data": {
            "text/plain": [
              "[]"
            ]
          },
          "metadata": {},
          "execution_count": 97
        }
      ]
    },
    {
      "cell_type": "code",
      "metadata": {
        "id": "Nic2Uhu6c_Y7"
      },
      "source": [
        "db_conn = sqlite3.connect(\"customers.db\")\n",
        "Product.to_sql('Products', db_conn, if_exists='append', index=False)"
      ],
      "execution_count": null,
      "outputs": []
    },
    {
      "cell_type": "code",
      "metadata": {
        "colab": {
          "base_uri": "https://localhost:8080/",
          "height": 114
        },
        "id": "-SPP6BPWeXDX",
        "outputId": "f5ba849e-4086-4ea4-b540-cfe21e83836b"
      },
      "source": [
        "%%sql\n",
        "SELECT MIN(Price) AS SmallestPrice FROM Products;"
      ],
      "execution_count": null,
      "outputs": [
        {
          "output_type": "stream",
          "name": "stdout",
          "text": [
            " * sqlite:///customers.db\n",
            "Done.\n",
            "Done.\n"
          ]
        },
        {
          "output_type": "execute_result",
          "data": {
            "text/html": [
              "<table>\n",
              "    <thead>\n",
              "        <tr>\n",
              "            <th>LargestPrice</th>\n",
              "        </tr>\n",
              "    </thead>\n",
              "    <tbody>\n",
              "        <tr>\n",
              "            <td>263.5</td>\n",
              "        </tr>\n",
              "    </tbody>\n",
              "</table>"
            ],
            "text/plain": [
              "[(263.5,)]"
            ]
          },
          "metadata": {},
          "execution_count": 101
        }
      ]
    },
    {
      "cell_type": "code",
      "metadata": {
        "colab": {
          "base_uri": "https://localhost:8080/",
          "height": 96
        },
        "id": "J8u-O-bVenoX",
        "outputId": "923fd65b-1498-410a-dcd6-ce3627ebad4d"
      },
      "source": [
        "%%sql\n",
        "SELECT MAX(Price) AS LargestPrice FROM Products;"
      ],
      "execution_count": null,
      "outputs": [
        {
          "output_type": "stream",
          "name": "stdout",
          "text": [
            " * sqlite:///customers.db\n",
            "Done.\n"
          ]
        },
        {
          "output_type": "execute_result",
          "data": {
            "text/html": [
              "<table>\n",
              "    <thead>\n",
              "        <tr>\n",
              "            <th>LargestPrice</th>\n",
              "        </tr>\n",
              "    </thead>\n",
              "    <tbody>\n",
              "        <tr>\n",
              "            <td>263.5</td>\n",
              "        </tr>\n",
              "    </tbody>\n",
              "</table>"
            ],
            "text/plain": [
              "[(263.5,)]"
            ]
          },
          "metadata": {},
          "execution_count": 102
        }
      ]
    },
    {
      "cell_type": "code",
      "metadata": {
        "colab": {
          "base_uri": "https://localhost:8080/",
          "height": 96
        },
        "id": "5QI3oLNLesO_",
        "outputId": "320fc590-96e8-4f09-877d-eb39c6716165"
      },
      "source": [
        "%%sql\n",
        "SELECT COUNT(ProductID) FROM Products;"
      ],
      "execution_count": null,
      "outputs": [
        {
          "output_type": "stream",
          "name": "stdout",
          "text": [
            " * sqlite:///customers.db\n",
            "Done.\n"
          ]
        },
        {
          "output_type": "execute_result",
          "data": {
            "text/html": [
              "<table>\n",
              "    <thead>\n",
              "        <tr>\n",
              "            <th>COUNT(ProductID)</th>\n",
              "        </tr>\n",
              "    </thead>\n",
              "    <tbody>\n",
              "        <tr>\n",
              "            <td>77</td>\n",
              "        </tr>\n",
              "    </tbody>\n",
              "</table>"
            ],
            "text/plain": [
              "[(77,)]"
            ]
          },
          "metadata": {},
          "execution_count": 110
        }
      ]
    },
    {
      "cell_type": "code",
      "metadata": {
        "colab": {
          "base_uri": "https://localhost:8080/",
          "height": 96
        },
        "id": "9OsCl7oIew2v",
        "outputId": "5a054970-5924-4a86-91e3-41689a2b4e9b"
      },
      "source": [
        "%%sql\n",
        "SELECT AVG(ProductID) FROM Products;"
      ],
      "execution_count": null,
      "outputs": [
        {
          "output_type": "stream",
          "name": "stdout",
          "text": [
            " * sqlite:///customers.db\n",
            "Done.\n"
          ]
        },
        {
          "output_type": "execute_result",
          "data": {
            "text/html": [
              "<table>\n",
              "    <thead>\n",
              "        <tr>\n",
              "            <th>AVG(ProductID)</th>\n",
              "        </tr>\n",
              "    </thead>\n",
              "    <tbody>\n",
              "        <tr>\n",
              "            <td>39.0</td>\n",
              "        </tr>\n",
              "    </tbody>\n",
              "</table>"
            ],
            "text/plain": [
              "[(39.0,)]"
            ]
          },
          "metadata": {},
          "execution_count": 111
        }
      ]
    },
    {
      "cell_type": "code",
      "metadata": {
        "colab": {
          "base_uri": "https://localhost:8080/",
          "height": 96
        },
        "id": "yQMvHfMkfPJx",
        "outputId": "65c9130c-cba8-4cb7-8a53-f9a3b86d8f74"
      },
      "source": [
        "%%sql\n",
        "SELECT SUM(Quantity) FROM OrderDetails;"
      ],
      "execution_count": null,
      "outputs": [
        {
          "output_type": "stream",
          "name": "stdout",
          "text": [
            " * sqlite:///customers.db\n",
            "Done.\n"
          ]
        },
        {
          "output_type": "execute_result",
          "data": {
            "text/html": [
              "<table>\n",
              "    <thead>\n",
              "        <tr>\n",
              "            <th>SUM(Quantity)</th>\n",
              "        </tr>\n",
              "    </thead>\n",
              "    <tbody>\n",
              "        <tr>\n",
              "            <td>12743</td>\n",
              "        </tr>\n",
              "    </tbody>\n",
              "</table>"
            ],
            "text/plain": [
              "[(12743,)]"
            ]
          },
          "metadata": {},
          "execution_count": 113
        }
      ]
    },
    {
      "cell_type": "code",
      "metadata": {
        "colab": {
          "base_uri": "https://localhost:8080/"
        },
        "id": "pQ9xPZuefWc5",
        "outputId": "7f92f44d-35e9-45dc-9691-db4186aec9cc"
      },
      "source": [
        "%%sql\n",
        "CREATE TABLE OrderDetails (\n",
        "    OrderDetailID INTEGER,\n",
        "    OrderID INTEGER,\n",
        "    ProductID INTEGER,\n",
        "    Quantity INTEGER\n",
        ");"
      ],
      "execution_count": null,
      "outputs": [
        {
          "output_type": "stream",
          "name": "stdout",
          "text": [
            " * sqlite:///customers.db\n",
            "(sqlite3.OperationalError) table OrderDetails already exists\n",
            "[SQL: CREATE TABLE OrderDetails (\n",
            "    OrderDetailID INTEGER,\n",
            "    OrderID INTEGER,\n",
            "    ProductID INTEGER,\n",
            "    Quantity INTEGER\n",
            ");]\n",
            "(Background on this error at: https://sqlalche.me/e/14/e3q8)\n"
          ]
        }
      ]
    },
    {
      "cell_type": "code",
      "metadata": {
        "id": "qezgGB00flzk"
      },
      "source": [
        "OrderDetails.to_sql('OrderDetails', db_conn, if_exists='append', index=False)"
      ],
      "execution_count": null,
      "outputs": []
    },
    {
      "cell_type": "code",
      "metadata": {
        "colab": {
          "base_uri": "https://localhost:8080/",
          "height": 96
        },
        "id": "IMgCT8uGf_3c",
        "outputId": "bacb2eea-bf2a-4eab-b694-c3c06f29d58c"
      },
      "source": [
        "%%sql\n",
        "SELECT SUM(Quantity) FROM OrderDetails;"
      ],
      "execution_count": null,
      "outputs": [
        {
          "output_type": "stream",
          "name": "stdout",
          "text": [
            " * sqlite:///customers.db\n",
            "Done.\n"
          ]
        },
        {
          "output_type": "execute_result",
          "data": {
            "text/html": [
              "<table>\n",
              "    <thead>\n",
              "        <tr>\n",
              "            <th>SUM(Quantity)</th>\n",
              "        </tr>\n",
              "    </thead>\n",
              "    <tbody>\n",
              "        <tr>\n",
              "            <td>25486</td>\n",
              "        </tr>\n",
              "    </tbody>\n",
              "</table>"
            ],
            "text/plain": [
              "[(25486,)]"
            ]
          },
          "metadata": {},
          "execution_count": 116
        }
      ]
    },
    {
      "cell_type": "code",
      "metadata": {
        "colab": {
          "base_uri": "https://localhost:8080/",
          "height": 139
        },
        "id": "zpxVyJQSgKBu",
        "outputId": "cd939472-c396-48f7-c590-9bcabbd09f39"
      },
      "source": [
        "%%sql\n",
        "SELECT * FROM Customers WHERE CustomerName LIKE 'a%'; "
      ],
      "execution_count": null,
      "outputs": [
        {
          "output_type": "stream",
          "name": "stdout",
          "text": [
            " * sqlite:///customers.db\n",
            "Done.\n"
          ]
        },
        {
          "output_type": "execute_result",
          "data": {
            "text/html": [
              "<table>\n",
              "    <thead>\n",
              "        <tr>\n",
              "            <th>CustomerID</th>\n",
              "            <th>CustomerName</th>\n",
              "            <th>ContactName</th>\n",
              "            <th>Address</th>\n",
              "            <th>City</th>\n",
              "            <th>PostalCode</th>\n",
              "            <th>Country</th>\n",
              "        </tr>\n",
              "    </thead>\n",
              "    <tbody>\n",
              "        <tr>\n",
              "            <td>2</td>\n",
              "            <td>Ana Trujillo Emparedados y helados</td>\n",
              "            <td>Ana Trujillo</td>\n",
              "            <td>Avda. de la Constitución 2222</td>\n",
              "            <td>México D.F.</td>\n",
              "            <td>5021</td>\n",
              "            <td>Mexico</td>\n",
              "        </tr>\n",
              "        <tr>\n",
              "            <td>3</td>\n",
              "            <td>Antonio Moreno Taquería</td>\n",
              "            <td>Antonio Moreno</td>\n",
              "            <td>Mataderos 2312</td>\n",
              "            <td>México D.F.</td>\n",
              "            <td>5023</td>\n",
              "            <td>Mexico</td>\n",
              "        </tr>\n",
              "        <tr>\n",
              "            <td>4</td>\n",
              "            <td>Around the Horn</td>\n",
              "            <td>Thomas Hardy</td>\n",
              "            <td>120 Hanover Sq.</td>\n",
              "            <td>London</td>\n",
              "            <td>WA1 1DP</td>\n",
              "            <td>UK</td>\n",
              "        </tr>\n",
              "    </tbody>\n",
              "</table>"
            ],
            "text/plain": [
              "[(2, 'Ana Trujillo Emparedados y helados', 'Ana Trujillo', 'Avda. de la Constitución 2222', 'México D.F.', 5021, 'Mexico'),\n",
              " (3, 'Antonio Moreno Taquería', 'Antonio Moreno', 'Mataderos 2312', 'México D.F.', 5023, 'Mexico'),\n",
              " (4, 'Around the Horn', 'Thomas Hardy', '120 Hanover Sq.', 'London', 'WA1 1DP', 'UK')]"
            ]
          },
          "metadata": {},
          "execution_count": 117
        }
      ]
    },
    {
      "cell_type": "code",
      "metadata": {
        "colab": {
          "base_uri": "https://localhost:8080/",
          "height": 182
        },
        "id": "I5EPHZ7ugdoQ",
        "outputId": "2ec443f2-f072-4f17-c07c-55705554ea12"
      },
      "source": [
        "%%sql\n",
        "SELECT * FROM Customers WHERE CustomerName LIKE '%a' LIMIT 5;"
      ],
      "execution_count": null,
      "outputs": [
        {
          "output_type": "stream",
          "name": "stdout",
          "text": [
            " * sqlite:///customers.db\n",
            "Done.\n"
          ]
        },
        {
          "output_type": "execute_result",
          "data": {
            "text/html": [
              "<table>\n",
              "    <thead>\n",
              "        <tr>\n",
              "            <th>CustomerID</th>\n",
              "            <th>CustomerName</th>\n",
              "            <th>ContactName</th>\n",
              "            <th>Address</th>\n",
              "            <th>City</th>\n",
              "            <th>PostalCode</th>\n",
              "            <th>Country</th>\n",
              "        </tr>\n",
              "    </thead>\n",
              "    <tbody>\n",
              "        <tr>\n",
              "            <td>3</td>\n",
              "            <td>Antonio Moreno Taquería</td>\n",
              "            <td>Antonio Moreno</td>\n",
              "            <td>Mataderos 2312</td>\n",
              "            <td>México D.F.</td>\n",
              "            <td>5023</td>\n",
              "            <td>Mexico</td>\n",
              "        </tr>\n",
              "        <tr>\n",
              "            <td>13</td>\n",
              "            <td>Centro comercial Moctezuma</td>\n",
              "            <td>Francisco Chang</td>\n",
              "            <td>Sierras de Granada 9993</td>\n",
              "            <td>México D.F.</td>\n",
              "            <td>5022</td>\n",
              "            <td>Mexico</td>\n",
              "        </tr>\n",
              "        <tr>\n",
              "            <td>30</td>\n",
              "            <td>Godos Cocina Típica</td>\n",
              "            <td>José Pedro Freyre</td>\n",
              "            <td>C/ Romero, 33</td>\n",
              "            <td>Sevilla</td>\n",
              "            <td>41101</td>\n",
              "            <td>Spain</td>\n",
              "        </tr>\n",
              "        <tr>\n",
              "            <td>61</td>\n",
              "            <td>Que Delícia</td>\n",
              "            <td>Bernardo Batista</td>\n",
              "            <td>Rua da Panificadora, 12</td>\n",
              "            <td>Rio de Janeiro</td>\n",
              "            <td>02389-673</td>\n",
              "            <td>Brazil</td>\n",
              "        </tr>\n",
              "        <tr>\n",
              "            <td>62</td>\n",
              "            <td>Queen Cozinha</td>\n",
              "            <td>Lúcia Carvalho</td>\n",
              "            <td>Alameda dos Canàrios, 891</td>\n",
              "            <td>São Paulo</td>\n",
              "            <td>05487-020</td>\n",
              "            <td>Brazil</td>\n",
              "        </tr>\n",
              "    </tbody>\n",
              "</table>"
            ],
            "text/plain": [
              "[(3, 'Antonio Moreno Taquería', 'Antonio Moreno', 'Mataderos 2312', 'México D.F.', 5023, 'Mexico'),\n",
              " (13, 'Centro comercial Moctezuma', 'Francisco Chang', 'Sierras de Granada 9993', 'México D.F.', 5022, 'Mexico'),\n",
              " (30, 'Godos Cocina Típica', 'José Pedro Freyre', 'C/ Romero, 33', 'Sevilla', 41101, 'Spain'),\n",
              " (61, 'Que Delícia', 'Bernardo Batista', 'Rua da Panificadora, 12', 'Rio de Janeiro', '02389-673', 'Brazil'),\n",
              " (62, 'Queen Cozinha', 'Lúcia Carvalho', 'Alameda dos Canàrios, 891', 'São Paulo', '05487-020', 'Brazil')]"
            ]
          },
          "metadata": {},
          "execution_count": 120
        }
      ]
    },
    {
      "cell_type": "code",
      "metadata": {
        "colab": {
          "base_uri": "https://localhost:8080/",
          "height": 182
        },
        "id": "3SxPmlefglqJ",
        "outputId": "1f7314b9-1c46-4535-e288-35452a63f348"
      },
      "source": [
        "%%sql\n",
        "SELECT * FROM Customers WHERE CustomerName LIKE '%or%' LIMIT 5;"
      ],
      "execution_count": null,
      "outputs": [
        {
          "output_type": "stream",
          "name": "stdout",
          "text": [
            " * sqlite:///customers.db\n",
            "Done.\n"
          ]
        },
        {
          "output_type": "execute_result",
          "data": {
            "text/html": [
              "<table>\n",
              "    <thead>\n",
              "        <tr>\n",
              "            <th>CustomerID</th>\n",
              "            <th>CustomerName</th>\n",
              "            <th>ContactName</th>\n",
              "            <th>Address</th>\n",
              "            <th>City</th>\n",
              "            <th>PostalCode</th>\n",
              "            <th>Country</th>\n",
              "        </tr>\n",
              "    </thead>\n",
              "    <tbody>\n",
              "        <tr>\n",
              "            <td>3</td>\n",
              "            <td>Antonio Moreno Taquería</td>\n",
              "            <td>Antonio Moreno</td>\n",
              "            <td>Mataderos 2312</td>\n",
              "            <td>México D.F.</td>\n",
              "            <td>5023</td>\n",
              "            <td>Mexico</td>\n",
              "        </tr>\n",
              "        <tr>\n",
              "            <td>4</td>\n",
              "            <td>Around the Horn</td>\n",
              "            <td>Thomas Hardy</td>\n",
              "            <td>120 Hanover Sq.</td>\n",
              "            <td>London</td>\n",
              "            <td>WA1 1DP</td>\n",
              "            <td>UK</td>\n",
              "        </tr>\n",
              "        <tr>\n",
              "            <td>36</td>\n",
              "            <td>Hungry Coyote Import Store</td>\n",
              "            <td>Yoshi Latimer</td>\n",
              "            <td>City Center Plaza 516 Main St.</td>\n",
              "            <td>Elgin</td>\n",
              "            <td>97827</td>\n",
              "            <td>USA</td>\n",
              "        </tr>\n",
              "        <tr>\n",
              "            <td>40</td>\n",
              "            <td>La corne d&#x27;abondance</td>\n",
              "            <td>Daniel Tonini</td>\n",
              "            <td>67, avenue de l&#x27;Europe</td>\n",
              "            <td>Versailles</td>\n",
              "            <td>78000</td>\n",
              "            <td>France</td>\n",
              "        </tr>\n",
              "        <tr>\n",
              "            <td>43</td>\n",
              "            <td>Lazy K Kountry Store</td>\n",
              "            <td>John Steel</td>\n",
              "            <td>12 Orchestra Terrace</td>\n",
              "            <td>Walla Walla</td>\n",
              "            <td>99362</td>\n",
              "            <td>USA</td>\n",
              "        </tr>\n",
              "    </tbody>\n",
              "</table>"
            ],
            "text/plain": [
              "[(3, 'Antonio Moreno Taquería', 'Antonio Moreno', 'Mataderos 2312', 'México D.F.', 5023, 'Mexico'),\n",
              " (4, 'Around the Horn', 'Thomas Hardy', '120 Hanover Sq.', 'London', 'WA1 1DP', 'UK'),\n",
              " (36, 'Hungry Coyote Import Store', 'Yoshi Latimer', 'City Center Plaza 516 Main St.', 'Elgin', 97827, 'USA'),\n",
              " (40, \"La corne d'abondance\", 'Daniel Tonini', \"67, avenue de l'Europe\", 'Versailles', 78000, 'France'),\n",
              " (43, 'Lazy K Kountry Store', 'John Steel', '12 Orchestra Terrace', 'Walla Walla', 99362, 'USA')]"
            ]
          },
          "metadata": {},
          "execution_count": 123
        }
      ]
    },
    {
      "cell_type": "code",
      "metadata": {
        "colab": {
          "base_uri": "https://localhost:8080/",
          "height": 182
        },
        "id": "2K9Oe_rQgy0J",
        "outputId": "5bc79d77-a451-40b7-ecba-ae6f2a016cd2"
      },
      "source": [
        "%%sql\n",
        "SELECT * FROM Customers WHERE CustomerName LIKE '_r%' LIMIT 5;"
      ],
      "execution_count": null,
      "outputs": [
        {
          "output_type": "stream",
          "name": "stdout",
          "text": [
            " * sqlite:///customers.db\n",
            "Done.\n"
          ]
        },
        {
          "output_type": "execute_result",
          "data": {
            "text/html": [
              "<table>\n",
              "    <thead>\n",
              "        <tr>\n",
              "            <th>CustomerID</th>\n",
              "            <th>CustomerName</th>\n",
              "            <th>ContactName</th>\n",
              "            <th>Address</th>\n",
              "            <th>City</th>\n",
              "            <th>PostalCode</th>\n",
              "            <th>Country</th>\n",
              "        </tr>\n",
              "    </thead>\n",
              "    <tbody>\n",
              "        <tr>\n",
              "            <td>4</td>\n",
              "            <td>Around the Horn</td>\n",
              "            <td>Thomas Hardy</td>\n",
              "            <td>120 Hanover Sq.</td>\n",
              "            <td>London</td>\n",
              "            <td>WA1 1DP</td>\n",
              "            <td>UK</td>\n",
              "        </tr>\n",
              "        <tr>\n",
              "            <td>17</td>\n",
              "            <td>Drachenblut Delikatessend</td>\n",
              "            <td>Sven Ottlieb</td>\n",
              "            <td>Walserweg 21</td>\n",
              "            <td>Aachen</td>\n",
              "            <td>52066</td>\n",
              "            <td>Germany</td>\n",
              "        </tr>\n",
              "        <tr>\n",
              "            <td>20</td>\n",
              "            <td>Ernst Handel</td>\n",
              "            <td>Roland Mendel</td>\n",
              "            <td>Kirchgasse 6</td>\n",
              "            <td>Graz</td>\n",
              "            <td>8010</td>\n",
              "            <td>Austria</td>\n",
              "        </tr>\n",
              "        <tr>\n",
              "            <td>25</td>\n",
              "            <td>Frankenversand</td>\n",
              "            <td>Peter Franken</td>\n",
              "            <td>Berliner Platz 43</td>\n",
              "            <td>München</td>\n",
              "            <td>80805</td>\n",
              "            <td>Germany</td>\n",
              "        </tr>\n",
              "        <tr>\n",
              "            <td>26</td>\n",
              "            <td>France restauration</td>\n",
              "            <td>Carine Schmitt</td>\n",
              "            <td>54, rue Royale</td>\n",
              "            <td>Nantes</td>\n",
              "            <td>44000</td>\n",
              "            <td>France</td>\n",
              "        </tr>\n",
              "    </tbody>\n",
              "</table>"
            ],
            "text/plain": [
              "[(4, 'Around the Horn', 'Thomas Hardy', '120 Hanover Sq.', 'London', 'WA1 1DP', 'UK'),\n",
              " (17, 'Drachenblut Delikatessend', 'Sven Ottlieb', 'Walserweg 21', 'Aachen', 52066, 'Germany'),\n",
              " (20, 'Ernst Handel', 'Roland Mendel', 'Kirchgasse 6', 'Graz', 8010, 'Austria'),\n",
              " (25, 'Frankenversand', 'Peter Franken', 'Berliner Platz 43', 'München', 80805, 'Germany'),\n",
              " (26, 'France restauration', 'Carine Schmitt', '54, rue Royale', 'Nantes', 44000, 'France')]"
            ]
          },
          "metadata": {},
          "execution_count": 124
        }
      ]
    },
    {
      "cell_type": "code",
      "metadata": {
        "colab": {
          "base_uri": "https://localhost:8080/",
          "height": 139
        },
        "id": "xux3ZiE5hOQJ",
        "outputId": "fee38034-c63d-4dfd-f748-f8bc622942c6"
      },
      "source": [
        "%%sql\n",
        "SELECT * FROM Customers WHERE CustomerName LIKE 'a__%';"
      ],
      "execution_count": null,
      "outputs": [
        {
          "output_type": "stream",
          "name": "stdout",
          "text": [
            " * sqlite:///customers.db\n",
            "Done.\n"
          ]
        },
        {
          "output_type": "execute_result",
          "data": {
            "text/html": [
              "<table>\n",
              "    <thead>\n",
              "        <tr>\n",
              "            <th>CustomerID</th>\n",
              "            <th>CustomerName</th>\n",
              "            <th>ContactName</th>\n",
              "            <th>Address</th>\n",
              "            <th>City</th>\n",
              "            <th>PostalCode</th>\n",
              "            <th>Country</th>\n",
              "        </tr>\n",
              "    </thead>\n",
              "    <tbody>\n",
              "        <tr>\n",
              "            <td>2</td>\n",
              "            <td>Ana Trujillo Emparedados y helados</td>\n",
              "            <td>Ana Trujillo</td>\n",
              "            <td>Avda. de la Constitución 2222</td>\n",
              "            <td>México D.F.</td>\n",
              "            <td>5021</td>\n",
              "            <td>Mexico</td>\n",
              "        </tr>\n",
              "        <tr>\n",
              "            <td>3</td>\n",
              "            <td>Antonio Moreno Taquería</td>\n",
              "            <td>Antonio Moreno</td>\n",
              "            <td>Mataderos 2312</td>\n",
              "            <td>México D.F.</td>\n",
              "            <td>5023</td>\n",
              "            <td>Mexico</td>\n",
              "        </tr>\n",
              "        <tr>\n",
              "            <td>4</td>\n",
              "            <td>Around the Horn</td>\n",
              "            <td>Thomas Hardy</td>\n",
              "            <td>120 Hanover Sq.</td>\n",
              "            <td>London</td>\n",
              "            <td>WA1 1DP</td>\n",
              "            <td>UK</td>\n",
              "        </tr>\n",
              "    </tbody>\n",
              "</table>"
            ],
            "text/plain": [
              "[(2, 'Ana Trujillo Emparedados y helados', 'Ana Trujillo', 'Avda. de la Constitución 2222', 'México D.F.', 5021, 'Mexico'),\n",
              " (3, 'Antonio Moreno Taquería', 'Antonio Moreno', 'Mataderos 2312', 'México D.F.', 5023, 'Mexico'),\n",
              " (4, 'Around the Horn', 'Thomas Hardy', '120 Hanover Sq.', 'London', 'WA1 1DP', 'UK')]"
            ]
          },
          "metadata": {},
          "execution_count": 125
        }
      ]
    },
    {
      "cell_type": "code",
      "metadata": {
        "colab": {
          "base_uri": "https://localhost:8080/",
          "height": 139
        },
        "id": "KhFfQ4XNhqzI",
        "outputId": "d35495aa-3f5c-4f29-b01b-71194343a0c3"
      },
      "source": [
        "%%sql\n",
        "SELECT * FROM Customers WHERE ContactName LIKE 'a%o';"
      ],
      "execution_count": null,
      "outputs": [
        {
          "output_type": "stream",
          "name": "stdout",
          "text": [
            " * sqlite:///customers.db\n",
            "Done.\n"
          ]
        },
        {
          "output_type": "execute_result",
          "data": {
            "text/html": [
              "<table>\n",
              "    <thead>\n",
              "        <tr>\n",
              "            <th>CustomerID</th>\n",
              "            <th>CustomerName</th>\n",
              "            <th>ContactName</th>\n",
              "            <th>Address</th>\n",
              "            <th>City</th>\n",
              "            <th>PostalCode</th>\n",
              "            <th>Country</th>\n",
              "        </tr>\n",
              "    </thead>\n",
              "    <tbody>\n",
              "        <tr>\n",
              "            <td>2</td>\n",
              "            <td>Ana Trujillo Emparedados y helados</td>\n",
              "            <td>Ana Trujillo</td>\n",
              "            <td>Avda. de la Constitución 2222</td>\n",
              "            <td>México D.F.</td>\n",
              "            <td>5021</td>\n",
              "            <td>Mexico</td>\n",
              "        </tr>\n",
              "        <tr>\n",
              "            <td>3</td>\n",
              "            <td>Antonio Moreno Taquería</td>\n",
              "            <td>Antonio Moreno</td>\n",
              "            <td>Mataderos 2312</td>\n",
              "            <td>México D.F.</td>\n",
              "            <td>5023</td>\n",
              "            <td>Mexico</td>\n",
              "        </tr>\n",
              "        <tr>\n",
              "            <td>69</td>\n",
              "            <td>Romero y tomillo</td>\n",
              "            <td>Alejandra Camino</td>\n",
              "            <td>Gran Vía, 1</td>\n",
              "            <td>Madrid</td>\n",
              "            <td>28001</td>\n",
              "            <td>Spain</td>\n",
              "        </tr>\n",
              "    </tbody>\n",
              "</table>"
            ],
            "text/plain": [
              "[(2, 'Ana Trujillo Emparedados y helados', 'Ana Trujillo', 'Avda. de la Constitución 2222', 'México D.F.', 5021, 'Mexico'),\n",
              " (3, 'Antonio Moreno Taquería', 'Antonio Moreno', 'Mataderos 2312', 'México D.F.', 5023, 'Mexico'),\n",
              " (69, 'Romero y tomillo', 'Alejandra Camino', 'Gran Vía, 1', 'Madrid', 28001, 'Spain')]"
            ]
          },
          "metadata": {},
          "execution_count": 126
        }
      ]
    },
    {
      "cell_type": "code",
      "metadata": {
        "colab": {
          "base_uri": "https://localhost:8080/",
          "height": 182
        },
        "id": "T8lgpqOHhu0a",
        "outputId": "6ba5993f-d689-4d61-a44c-48da89bd3594"
      },
      "source": [
        "%%sql\n",
        "SELECT * FROM Customers WHERE CustomerName NOT LIKE 'a%' LIMIT 5;"
      ],
      "execution_count": null,
      "outputs": [
        {
          "output_type": "stream",
          "name": "stdout",
          "text": [
            " * sqlite:///customers.db\n",
            "Done.\n"
          ]
        },
        {
          "output_type": "execute_result",
          "data": {
            "text/html": [
              "<table>\n",
              "    <thead>\n",
              "        <tr>\n",
              "            <th>CustomerID</th>\n",
              "            <th>CustomerName</th>\n",
              "            <th>ContactName</th>\n",
              "            <th>Address</th>\n",
              "            <th>City</th>\n",
              "            <th>PostalCode</th>\n",
              "            <th>Country</th>\n",
              "        </tr>\n",
              "    </thead>\n",
              "    <tbody>\n",
              "        <tr>\n",
              "            <td>5</td>\n",
              "            <td>Berglunds snabbköp</td>\n",
              "            <td>Christina Berglund</td>\n",
              "            <td>Berguvsvägen 8</td>\n",
              "            <td>Luleå</td>\n",
              "            <td>S-958 22</td>\n",
              "            <td>Sweden</td>\n",
              "        </tr>\n",
              "        <tr>\n",
              "            <td>6</td>\n",
              "            <td>Blauer See Delikatessen</td>\n",
              "            <td>Hanna Moos</td>\n",
              "            <td>Forsterstr. 57</td>\n",
              "            <td>Mannheim</td>\n",
              "            <td>68306</td>\n",
              "            <td>Germany</td>\n",
              "        </tr>\n",
              "        <tr>\n",
              "            <td>7</td>\n",
              "            <td>Blondel père et fils</td>\n",
              "            <td>Frédérique Citeaux</td>\n",
              "            <td>24, place Kléber</td>\n",
              "            <td>Strasbourg</td>\n",
              "            <td>67000</td>\n",
              "            <td>France</td>\n",
              "        </tr>\n",
              "        <tr>\n",
              "            <td>8</td>\n",
              "            <td>Bólido Comidas preparadas</td>\n",
              "            <td>Martín Sommer</td>\n",
              "            <td>C/ Araquil, 67</td>\n",
              "            <td>Madrid</td>\n",
              "            <td>28023</td>\n",
              "            <td>Spain</td>\n",
              "        </tr>\n",
              "        <tr>\n",
              "            <td>9</td>\n",
              "            <td>Bon app&#x27;</td>\n",
              "            <td>Laurence Lebihans</td>\n",
              "            <td>12, rue des Bouchers</td>\n",
              "            <td>Marseille</td>\n",
              "            <td>13008</td>\n",
              "            <td>France</td>\n",
              "        </tr>\n",
              "    </tbody>\n",
              "</table>"
            ],
            "text/plain": [
              "[(5, 'Berglunds snabbköp', 'Christina Berglund', 'Berguvsvägen 8', 'Luleå', 'S-958 22', 'Sweden'),\n",
              " (6, 'Blauer See Delikatessen', 'Hanna Moos', 'Forsterstr. 57', 'Mannheim', 68306, 'Germany'),\n",
              " (7, 'Blondel père et fils', 'Frédérique Citeaux', '24, place Kléber', 'Strasbourg', 67000, 'France'),\n",
              " (8, 'Bólido Comidas preparadas', 'Martín Sommer', 'C/ Araquil, 67', 'Madrid', 28023, 'Spain'),\n",
              " (9, \"Bon app'\", 'Laurence Lebihans', '12, rue des Bouchers', 'Marseille', 13008, 'France')]"
            ]
          },
          "metadata": {},
          "execution_count": 128
        }
      ]
    },
    {
      "cell_type": "code",
      "metadata": {
        "colab": {
          "base_uri": "https://localhost:8080/",
          "height": 118
        },
        "id": "joHlWf9eiNsP",
        "outputId": "3a078a6f-7dbe-4b13-d0fc-fcf3c32a32b8"
      },
      "source": [
        "%%sql\n",
        "SELECT * FROM Customers WHERE City LIKE 'ber%';"
      ],
      "execution_count": null,
      "outputs": [
        {
          "output_type": "stream",
          "name": "stdout",
          "text": [
            " * sqlite:///customers.db\n",
            "Done.\n"
          ]
        },
        {
          "output_type": "execute_result",
          "data": {
            "text/html": [
              "<table>\n",
              "    <thead>\n",
              "        <tr>\n",
              "            <th>CustomerID</th>\n",
              "            <th>CustomerName</th>\n",
              "            <th>ContactName</th>\n",
              "            <th>Address</th>\n",
              "            <th>City</th>\n",
              "            <th>PostalCode</th>\n",
              "            <th>Country</th>\n",
              "        </tr>\n",
              "    </thead>\n",
              "    <tbody>\n",
              "        <tr>\n",
              "            <td>14</td>\n",
              "            <td>Chop-suey Chinese</td>\n",
              "            <td>Yang Wang</td>\n",
              "            <td>Hauptstr. 29</td>\n",
              "            <td>Bern</td>\n",
              "            <td>3012</td>\n",
              "            <td>Switzerland</td>\n",
              "        </tr>\n",
              "        <tr>\n",
              "            <td>49</td>\n",
              "            <td>Magazzini Alimentari Riuniti</td>\n",
              "            <td>Giovanni Rovelli</td>\n",
              "            <td>Via Ludovico il Moro 22</td>\n",
              "            <td>Bergamo</td>\n",
              "            <td>24100</td>\n",
              "            <td>Italy</td>\n",
              "        </tr>\n",
              "    </tbody>\n",
              "</table>"
            ],
            "text/plain": [
              "[(14, 'Chop-suey Chinese', 'Yang Wang', 'Hauptstr. 29', 'Bern', 3012, 'Switzerland'),\n",
              " (49, 'Magazzini Alimentari Riuniti', 'Giovanni Rovelli', 'Via Ludovico il Moro 22', 'Bergamo', 24100, 'Italy')]"
            ]
          },
          "metadata": {},
          "execution_count": 129
        }
      ]
    },
    {
      "cell_type": "code",
      "metadata": {
        "colab": {
          "base_uri": "https://localhost:8080/",
          "height": 182
        },
        "id": "HksV7hBuiU-S",
        "outputId": "0b79bf35-e502-44cb-9b03-86d84a79af3e"
      },
      "source": [
        "%%sql\n",
        "SELECT * FROM Customers WHERE City LIKE '%es%' LIMIT 5;"
      ],
      "execution_count": null,
      "outputs": [
        {
          "output_type": "stream",
          "name": "stdout",
          "text": [
            " * sqlite:///customers.db\n",
            "Done.\n"
          ]
        },
        {
          "output_type": "execute_result",
          "data": {
            "text/html": [
              "<table>\n",
              "    <thead>\n",
              "        <tr>\n",
              "            <th>CustomerID</th>\n",
              "            <th>CustomerName</th>\n",
              "            <th>ContactName</th>\n",
              "            <th>Address</th>\n",
              "            <th>City</th>\n",
              "            <th>PostalCode</th>\n",
              "            <th>Country</th>\n",
              "        </tr>\n",
              "    </thead>\n",
              "    <tbody>\n",
              "        <tr>\n",
              "            <td>12</td>\n",
              "            <td>Cactus Comidas para llevar</td>\n",
              "            <td>Patricio Simpson</td>\n",
              "            <td>Cerrito 333</td>\n",
              "            <td>Buenos Aires</td>\n",
              "            <td>1010</td>\n",
              "            <td>Argentina</td>\n",
              "        </tr>\n",
              "        <tr>\n",
              "            <td>18</td>\n",
              "            <td>Du monde entier</td>\n",
              "            <td>Janine Labrune</td>\n",
              "            <td>67, rue des Cinquante Otages</td>\n",
              "            <td>Nantes</td>\n",
              "            <td>44000</td>\n",
              "            <td>France</td>\n",
              "        </tr>\n",
              "        <tr>\n",
              "            <td>26</td>\n",
              "            <td>France restauration</td>\n",
              "            <td>Carine Schmitt</td>\n",
              "            <td>54, rue Royale</td>\n",
              "            <td>Nantes</td>\n",
              "            <td>44000</td>\n",
              "            <td>France</td>\n",
              "        </tr>\n",
              "        <tr>\n",
              "            <td>38</td>\n",
              "            <td>Island Trading</td>\n",
              "            <td>Helen Bennett</td>\n",
              "            <td>Garden House Crowther Way</td>\n",
              "            <td>Cowes</td>\n",
              "            <td>PO31 7PJ</td>\n",
              "            <td>UK</td>\n",
              "        </tr>\n",
              "        <tr>\n",
              "            <td>40</td>\n",
              "            <td>La corne d&#x27;abondance</td>\n",
              "            <td>Daniel Tonini</td>\n",
              "            <td>67, avenue de l&#x27;Europe</td>\n",
              "            <td>Versailles</td>\n",
              "            <td>78000</td>\n",
              "            <td>France</td>\n",
              "        </tr>\n",
              "    </tbody>\n",
              "</table>"
            ],
            "text/plain": [
              "[(12, 'Cactus Comidas para llevar', 'Patricio Simpson', 'Cerrito 333', 'Buenos Aires', 1010, 'Argentina'),\n",
              " (18, 'Du monde entier', 'Janine Labrune', '67, rue des Cinquante Otages', 'Nantes', 44000, 'France'),\n",
              " (26, 'France restauration', 'Carine Schmitt', '54, rue Royale', 'Nantes', 44000, 'France'),\n",
              " (38, 'Island Trading', 'Helen Bennett', 'Garden House Crowther Way', 'Cowes', 'PO31 7PJ', 'UK'),\n",
              " (40, \"La corne d'abondance\", 'Daniel Tonini', \"67, avenue de l'Europe\", 'Versailles', 78000, 'France')]"
            ]
          },
          "metadata": {},
          "execution_count": 131
        }
      ]
    },
    {
      "cell_type": "code",
      "metadata": {
        "colab": {
          "base_uri": "https://localhost:8080/",
          "height": 203
        },
        "id": "3xr7DVCFicBg",
        "outputId": "d66a486a-8d24-46da-b45b-f3f22a8ffb8c"
      },
      "source": [
        "%%sql\n",
        "SELECT * FROM Customers WHERE City LIKE '_ondon';"
      ],
      "execution_count": null,
      "outputs": [
        {
          "output_type": "stream",
          "name": "stdout",
          "text": [
            " * sqlite:///customers.db\n",
            "Done.\n"
          ]
        },
        {
          "output_type": "execute_result",
          "data": {
            "text/html": [
              "<table>\n",
              "    <thead>\n",
              "        <tr>\n",
              "            <th>CustomerID</th>\n",
              "            <th>CustomerName</th>\n",
              "            <th>ContactName</th>\n",
              "            <th>Address</th>\n",
              "            <th>City</th>\n",
              "            <th>PostalCode</th>\n",
              "            <th>Country</th>\n",
              "        </tr>\n",
              "    </thead>\n",
              "    <tbody>\n",
              "        <tr>\n",
              "            <td>4</td>\n",
              "            <td>Around the Horn</td>\n",
              "            <td>Thomas Hardy</td>\n",
              "            <td>120 Hanover Sq.</td>\n",
              "            <td>London</td>\n",
              "            <td>WA1 1DP</td>\n",
              "            <td>UK</td>\n",
              "        </tr>\n",
              "        <tr>\n",
              "            <td>11</td>\n",
              "            <td>B&#x27;s Beverages</td>\n",
              "            <td>Victoria Ashworth</td>\n",
              "            <td>Fauntleroy Circus</td>\n",
              "            <td>London</td>\n",
              "            <td>EC2 5NT</td>\n",
              "            <td>UK</td>\n",
              "        </tr>\n",
              "        <tr>\n",
              "            <td>16</td>\n",
              "            <td>Consolidated Holdings</td>\n",
              "            <td>Elizabeth Brown</td>\n",
              "            <td>Berkeley Gardens 12 Brewery</td>\n",
              "            <td>London</td>\n",
              "            <td>WX1 6LT</td>\n",
              "            <td>UK</td>\n",
              "        </tr>\n",
              "        <tr>\n",
              "            <td>19</td>\n",
              "            <td>Eastern Connection</td>\n",
              "            <td>Ann Devon</td>\n",
              "            <td>35 King George</td>\n",
              "            <td>London</td>\n",
              "            <td>WX3 6FW</td>\n",
              "            <td>UK</td>\n",
              "        </tr>\n",
              "        <tr>\n",
              "            <td>53</td>\n",
              "            <td>North/South</td>\n",
              "            <td>Simon Crowther</td>\n",
              "            <td>South House 300 Queensbridge</td>\n",
              "            <td>London</td>\n",
              "            <td>SW7 1RZ</td>\n",
              "            <td>UK</td>\n",
              "        </tr>\n",
              "        <tr>\n",
              "            <td>72</td>\n",
              "            <td>Seven Seas Imports</td>\n",
              "            <td>Hari Kumar</td>\n",
              "            <td>90 Wadhurst Rd.</td>\n",
              "            <td>London</td>\n",
              "            <td>OX15 4NB</td>\n",
              "            <td>UK</td>\n",
              "        </tr>\n",
              "    </tbody>\n",
              "</table>"
            ],
            "text/plain": [
              "[(4, 'Around the Horn', 'Thomas Hardy', '120 Hanover Sq.', 'London', 'WA1 1DP', 'UK'),\n",
              " (11, \"B's Beverages\", 'Victoria Ashworth', 'Fauntleroy Circus', 'London', 'EC2 5NT', 'UK'),\n",
              " (16, 'Consolidated Holdings', 'Elizabeth Brown', 'Berkeley Gardens 12 Brewery', 'London', 'WX1 6LT', 'UK'),\n",
              " (19, 'Eastern Connection', 'Ann Devon', '35 King George', 'London', 'WX3 6FW', 'UK'),\n",
              " (53, 'North/South', 'Simon Crowther', 'South House 300 Queensbridge', 'London', 'SW7 1RZ', 'UK'),\n",
              " (72, 'Seven Seas Imports', 'Hari Kumar', '90 Wadhurst Rd.', 'London', 'OX15 4NB', 'UK')]"
            ]
          },
          "metadata": {},
          "execution_count": 132
        }
      ]
    },
    {
      "cell_type": "code",
      "metadata": {
        "colab": {
          "base_uri": "https://localhost:8080/",
          "height": 203
        },
        "id": "XlCvd-iViqbL",
        "outputId": "27034378-e0f5-41b3-ee66-5a1d3ef3237d"
      },
      "source": [
        "%%sql\n",
        "SELECT * FROM Customers WHERE City LIKE 'L_n_on';"
      ],
      "execution_count": null,
      "outputs": [
        {
          "output_type": "stream",
          "name": "stdout",
          "text": [
            " * sqlite:///customers.db\n",
            "Done.\n"
          ]
        },
        {
          "output_type": "execute_result",
          "data": {
            "text/html": [
              "<table>\n",
              "    <thead>\n",
              "        <tr>\n",
              "            <th>CustomerID</th>\n",
              "            <th>CustomerName</th>\n",
              "            <th>ContactName</th>\n",
              "            <th>Address</th>\n",
              "            <th>City</th>\n",
              "            <th>PostalCode</th>\n",
              "            <th>Country</th>\n",
              "        </tr>\n",
              "    </thead>\n",
              "    <tbody>\n",
              "        <tr>\n",
              "            <td>4</td>\n",
              "            <td>Around the Horn</td>\n",
              "            <td>Thomas Hardy</td>\n",
              "            <td>120 Hanover Sq.</td>\n",
              "            <td>London</td>\n",
              "            <td>WA1 1DP</td>\n",
              "            <td>UK</td>\n",
              "        </tr>\n",
              "        <tr>\n",
              "            <td>11</td>\n",
              "            <td>B&#x27;s Beverages</td>\n",
              "            <td>Victoria Ashworth</td>\n",
              "            <td>Fauntleroy Circus</td>\n",
              "            <td>London</td>\n",
              "            <td>EC2 5NT</td>\n",
              "            <td>UK</td>\n",
              "        </tr>\n",
              "        <tr>\n",
              "            <td>16</td>\n",
              "            <td>Consolidated Holdings</td>\n",
              "            <td>Elizabeth Brown</td>\n",
              "            <td>Berkeley Gardens 12 Brewery</td>\n",
              "            <td>London</td>\n",
              "            <td>WX1 6LT</td>\n",
              "            <td>UK</td>\n",
              "        </tr>\n",
              "        <tr>\n",
              "            <td>19</td>\n",
              "            <td>Eastern Connection</td>\n",
              "            <td>Ann Devon</td>\n",
              "            <td>35 King George</td>\n",
              "            <td>London</td>\n",
              "            <td>WX3 6FW</td>\n",
              "            <td>UK</td>\n",
              "        </tr>\n",
              "        <tr>\n",
              "            <td>53</td>\n",
              "            <td>North/South</td>\n",
              "            <td>Simon Crowther</td>\n",
              "            <td>South House 300 Queensbridge</td>\n",
              "            <td>London</td>\n",
              "            <td>SW7 1RZ</td>\n",
              "            <td>UK</td>\n",
              "        </tr>\n",
              "        <tr>\n",
              "            <td>72</td>\n",
              "            <td>Seven Seas Imports</td>\n",
              "            <td>Hari Kumar</td>\n",
              "            <td>90 Wadhurst Rd.</td>\n",
              "            <td>London</td>\n",
              "            <td>OX15 4NB</td>\n",
              "            <td>UK</td>\n",
              "        </tr>\n",
              "    </tbody>\n",
              "</table>"
            ],
            "text/plain": [
              "[(4, 'Around the Horn', 'Thomas Hardy', '120 Hanover Sq.', 'London', 'WA1 1DP', 'UK'),\n",
              " (11, \"B's Beverages\", 'Victoria Ashworth', 'Fauntleroy Circus', 'London', 'EC2 5NT', 'UK'),\n",
              " (16, 'Consolidated Holdings', 'Elizabeth Brown', 'Berkeley Gardens 12 Brewery', 'London', 'WX1 6LT', 'UK'),\n",
              " (19, 'Eastern Connection', 'Ann Devon', '35 King George', 'London', 'WX3 6FW', 'UK'),\n",
              " (53, 'North/South', 'Simon Crowther', 'South House 300 Queensbridge', 'London', 'SW7 1RZ', 'UK'),\n",
              " (72, 'Seven Seas Imports', 'Hari Kumar', '90 Wadhurst Rd.', 'London', 'OX15 4NB', 'UK')]"
            ]
          },
          "metadata": {},
          "execution_count": 137
        }
      ]
    },
    {
      "cell_type": "code",
      "metadata": {
        "colab": {
          "base_uri": "https://localhost:8080/",
          "height": 75
        },
        "id": "4afxnA1Iiw84",
        "outputId": "129556f7-c2c3-4bd1-c14e-0c84664fd42e"
      },
      "source": [
        "%%sql\n",
        "SELECT * FROM Customers WHERE City LIKE '[bsp]%';"
      ],
      "execution_count": null,
      "outputs": [
        {
          "output_type": "stream",
          "name": "stdout",
          "text": [
            " * sqlite:///customers.db\n",
            "Done.\n"
          ]
        },
        {
          "output_type": "execute_result",
          "data": {
            "text/html": [
              "<table>\n",
              "    <thead>\n",
              "        <tr>\n",
              "            <th>CustomerID</th>\n",
              "            <th>CustomerName</th>\n",
              "            <th>ContactName</th>\n",
              "            <th>Address</th>\n",
              "            <th>City</th>\n",
              "            <th>PostalCode</th>\n",
              "            <th>Country</th>\n",
              "        </tr>\n",
              "    </thead>\n",
              "    <tbody>\n",
              "    </tbody>\n",
              "</table>"
            ],
            "text/plain": [
              "[]"
            ]
          },
          "metadata": {},
          "execution_count": 136
        }
      ]
    },
    {
      "cell_type": "code",
      "metadata": {
        "colab": {
          "base_uri": "https://localhost:8080/",
          "height": 182
        },
        "id": "MwktlKb9i7b4",
        "outputId": "90aa6e77-319d-4123-e0c1-5d9f5b8131b9"
      },
      "source": [
        "%%sql\n",
        "SELECT * FROM Customers WHERE Country IN ('Germany', 'France', 'UK') LIMIT 5;"
      ],
      "execution_count": null,
      "outputs": [
        {
          "output_type": "stream",
          "name": "stdout",
          "text": [
            " * sqlite:///customers.db\n",
            "Done.\n"
          ]
        },
        {
          "output_type": "execute_result",
          "data": {
            "text/html": [
              "<table>\n",
              "    <thead>\n",
              "        <tr>\n",
              "            <th>CustomerID</th>\n",
              "            <th>CustomerName</th>\n",
              "            <th>ContactName</th>\n",
              "            <th>Address</th>\n",
              "            <th>City</th>\n",
              "            <th>PostalCode</th>\n",
              "            <th>Country</th>\n",
              "        </tr>\n",
              "    </thead>\n",
              "    <tbody>\n",
              "        <tr>\n",
              "            <td>4</td>\n",
              "            <td>Around the Horn</td>\n",
              "            <td>Thomas Hardy</td>\n",
              "            <td>120 Hanover Sq.</td>\n",
              "            <td>London</td>\n",
              "            <td>WA1 1DP</td>\n",
              "            <td>UK</td>\n",
              "        </tr>\n",
              "        <tr>\n",
              "            <td>6</td>\n",
              "            <td>Blauer See Delikatessen</td>\n",
              "            <td>Hanna Moos</td>\n",
              "            <td>Forsterstr. 57</td>\n",
              "            <td>Mannheim</td>\n",
              "            <td>68306</td>\n",
              "            <td>Germany</td>\n",
              "        </tr>\n",
              "        <tr>\n",
              "            <td>7</td>\n",
              "            <td>Blondel père et fils</td>\n",
              "            <td>Frédérique Citeaux</td>\n",
              "            <td>24, place Kléber</td>\n",
              "            <td>Strasbourg</td>\n",
              "            <td>67000</td>\n",
              "            <td>France</td>\n",
              "        </tr>\n",
              "        <tr>\n",
              "            <td>9</td>\n",
              "            <td>Bon app&#x27;</td>\n",
              "            <td>Laurence Lebihans</td>\n",
              "            <td>12, rue des Bouchers</td>\n",
              "            <td>Marseille</td>\n",
              "            <td>13008</td>\n",
              "            <td>France</td>\n",
              "        </tr>\n",
              "        <tr>\n",
              "            <td>11</td>\n",
              "            <td>B&#x27;s Beverages</td>\n",
              "            <td>Victoria Ashworth</td>\n",
              "            <td>Fauntleroy Circus</td>\n",
              "            <td>London</td>\n",
              "            <td>EC2 5NT</td>\n",
              "            <td>UK</td>\n",
              "        </tr>\n",
              "    </tbody>\n",
              "</table>"
            ],
            "text/plain": [
              "[(4, 'Around the Horn', 'Thomas Hardy', '120 Hanover Sq.', 'London', 'WA1 1DP', 'UK'),\n",
              " (6, 'Blauer See Delikatessen', 'Hanna Moos', 'Forsterstr. 57', 'Mannheim', 68306, 'Germany'),\n",
              " (7, 'Blondel père et fils', 'Frédérique Citeaux', '24, place Kléber', 'Strasbourg', 67000, 'France'),\n",
              " (9, \"Bon app'\", 'Laurence Lebihans', '12, rue des Bouchers', 'Marseille', 13008, 'France'),\n",
              " (11, \"B's Beverages\", 'Victoria Ashworth', 'Fauntleroy Circus', 'London', 'EC2 5NT', 'UK')]"
            ]
          },
          "metadata": {},
          "execution_count": 144
        }
      ]
    },
    {
      "cell_type": "code",
      "metadata": {
        "colab": {
          "base_uri": "https://localhost:8080/",
          "height": 182
        },
        "id": "_cItuhIhjcYq",
        "outputId": "c08864dc-8ecb-4e9d-d9c6-ff2cb095118b"
      },
      "source": [
        "%%sql\n",
        "SELECT * FROM Customers WHERE Country NOT IN ('Germany', 'France', 'UK') LIMIT 5;"
      ],
      "execution_count": null,
      "outputs": [
        {
          "output_type": "stream",
          "name": "stdout",
          "text": [
            " * sqlite:///customers.db\n",
            "Done.\n"
          ]
        },
        {
          "output_type": "execute_result",
          "data": {
            "text/html": [
              "<table>\n",
              "    <thead>\n",
              "        <tr>\n",
              "            <th>CustomerID</th>\n",
              "            <th>CustomerName</th>\n",
              "            <th>ContactName</th>\n",
              "            <th>Address</th>\n",
              "            <th>City</th>\n",
              "            <th>PostalCode</th>\n",
              "            <th>Country</th>\n",
              "        </tr>\n",
              "    </thead>\n",
              "    <tbody>\n",
              "        <tr>\n",
              "            <td>2</td>\n",
              "            <td>Ana Trujillo Emparedados y helados</td>\n",
              "            <td>Ana Trujillo</td>\n",
              "            <td>Avda. de la Constitución 2222</td>\n",
              "            <td>México D.F.</td>\n",
              "            <td>5021</td>\n",
              "            <td>Mexico</td>\n",
              "        </tr>\n",
              "        <tr>\n",
              "            <td>3</td>\n",
              "            <td>Antonio Moreno Taquería</td>\n",
              "            <td>Antonio Moreno</td>\n",
              "            <td>Mataderos 2312</td>\n",
              "            <td>México D.F.</td>\n",
              "            <td>5023</td>\n",
              "            <td>Mexico</td>\n",
              "        </tr>\n",
              "        <tr>\n",
              "            <td>5</td>\n",
              "            <td>Berglunds snabbköp</td>\n",
              "            <td>Christina Berglund</td>\n",
              "            <td>Berguvsvägen 8</td>\n",
              "            <td>Luleå</td>\n",
              "            <td>S-958 22</td>\n",
              "            <td>Sweden</td>\n",
              "        </tr>\n",
              "        <tr>\n",
              "            <td>8</td>\n",
              "            <td>Bólido Comidas preparadas</td>\n",
              "            <td>Martín Sommer</td>\n",
              "            <td>C/ Araquil, 67</td>\n",
              "            <td>Madrid</td>\n",
              "            <td>28023</td>\n",
              "            <td>Spain</td>\n",
              "        </tr>\n",
              "        <tr>\n",
              "            <td>10</td>\n",
              "            <td>Bottom-Dollar Marketse</td>\n",
              "            <td>Elizabeth Lincoln</td>\n",
              "            <td>23 Tsawassen Blvd.</td>\n",
              "            <td>Tsawassen</td>\n",
              "            <td>T2F 8M4</td>\n",
              "            <td>Canada</td>\n",
              "        </tr>\n",
              "    </tbody>\n",
              "</table>"
            ],
            "text/plain": [
              "[(2, 'Ana Trujillo Emparedados y helados', 'Ana Trujillo', 'Avda. de la Constitución 2222', 'México D.F.', 5021, 'Mexico'),\n",
              " (3, 'Antonio Moreno Taquería', 'Antonio Moreno', 'Mataderos 2312', 'México D.F.', 5023, 'Mexico'),\n",
              " (5, 'Berglunds snabbköp', 'Christina Berglund', 'Berguvsvägen 8', 'Luleå', 'S-958 22', 'Sweden'),\n",
              " (8, 'Bólido Comidas preparadas', 'Martín Sommer', 'C/ Araquil, 67', 'Madrid', 28023, 'Spain'),\n",
              " (10, 'Bottom-Dollar Marketse', 'Elizabeth Lincoln', '23 Tsawassen Blvd.', 'Tsawassen', 'T2F 8M4', 'Canada')]"
            ]
          },
          "metadata": {},
          "execution_count": 145
        }
      ]
    },
    {
      "cell_type": "code",
      "metadata": {
        "id": "79oqAMvrlAb_"
      },
      "source": [
        "%%sql\n",
        "CREATE TABLE Suppliers (\n",
        "    SupplierID INTEGER,\n",
        "    SupplierName TEXT NOT NULL,\n",
        "    ContactName TEXT NOT NULL,\n",
        "    Address TEXT NOT NULL,\n",
        "    City TEXT NOT NULL,\n",
        "    PostalCode TEXT NOT NULL,\n",
        "    Country TEXT NOT NULL,\n",
        "    Phone TEXT NOT NULL,\n",
        ");"
      ],
      "execution_count": null,
      "outputs": []
    },
    {
      "cell_type": "code",
      "metadata": {
        "id": "8azWS2LSqEVJ"
      },
      "source": [
        "Suppliers = pd.read_excel('SQL/Customers.xlsx', sheet_name='Suppliers',header=0)\n",
        "Product.to_sql('Suppliers', db_conn, if_exists='append', index=False)"
      ],
      "execution_count": null,
      "outputs": []
    },
    {
      "cell_type": "code",
      "metadata": {
        "colab": {
          "base_uri": "https://localhost:8080/",
          "height": 182
        },
        "id": "ApglvjoxjlrN",
        "outputId": "8467f3c7-8e26-4bca-daf2-acdc352cf95e"
      },
      "source": [
        "%%sql\n",
        "SELECT * FROM Customers WHERE Country IN (SELECT Country FROM Suppliers) LIMIT 5;"
      ],
      "execution_count": null,
      "outputs": [
        {
          "output_type": "stream",
          "name": "stdout",
          "text": [
            " * sqlite:///customers.db\n",
            "Done.\n"
          ]
        },
        {
          "output_type": "execute_result",
          "data": {
            "text/html": [
              "<table>\n",
              "    <thead>\n",
              "        <tr>\n",
              "            <th>CustomerID</th>\n",
              "            <th>CustomerName</th>\n",
              "            <th>ContactName</th>\n",
              "            <th>Address</th>\n",
              "            <th>City</th>\n",
              "            <th>PostalCode</th>\n",
              "            <th>Country</th>\n",
              "        </tr>\n",
              "    </thead>\n",
              "    <tbody>\n",
              "        <tr>\n",
              "            <td>2</td>\n",
              "            <td>Ana Trujillo Emparedados y helados</td>\n",
              "            <td>Ana Trujillo</td>\n",
              "            <td>Avda. de la Constitución 2222</td>\n",
              "            <td>México D.F.</td>\n",
              "            <td>5021</td>\n",
              "            <td>Mexico</td>\n",
              "        </tr>\n",
              "        <tr>\n",
              "            <td>3</td>\n",
              "            <td>Antonio Moreno Taquería</td>\n",
              "            <td>Antonio Moreno</td>\n",
              "            <td>Mataderos 2312</td>\n",
              "            <td>México D.F.</td>\n",
              "            <td>5023</td>\n",
              "            <td>Mexico</td>\n",
              "        </tr>\n",
              "        <tr>\n",
              "            <td>4</td>\n",
              "            <td>Around the Horn</td>\n",
              "            <td>Thomas Hardy</td>\n",
              "            <td>120 Hanover Sq.</td>\n",
              "            <td>London</td>\n",
              "            <td>WA1 1DP</td>\n",
              "            <td>UK</td>\n",
              "        </tr>\n",
              "        <tr>\n",
              "            <td>5</td>\n",
              "            <td>Berglunds snabbköp</td>\n",
              "            <td>Christina Berglund</td>\n",
              "            <td>Berguvsvägen 8</td>\n",
              "            <td>Luleå</td>\n",
              "            <td>S-958 22</td>\n",
              "            <td>Sweden</td>\n",
              "        </tr>\n",
              "        <tr>\n",
              "            <td>6</td>\n",
              "            <td>Blauer See Delikatessen</td>\n",
              "            <td>Hanna Moos</td>\n",
              "            <td>Forsterstr. 57</td>\n",
              "            <td>Mannheim</td>\n",
              "            <td>68306</td>\n",
              "            <td>Germany</td>\n",
              "        </tr>\n",
              "    </tbody>\n",
              "</table>"
            ],
            "text/plain": [
              "[(2, 'Ana Trujillo Emparedados y helados', 'Ana Trujillo', 'Avda. de la Constitución 2222', 'México D.F.', 5021, 'Mexico'),\n",
              " (3, 'Antonio Moreno Taquería', 'Antonio Moreno', 'Mataderos 2312', 'México D.F.', 5023, 'Mexico'),\n",
              " (4, 'Around the Horn', 'Thomas Hardy', '120 Hanover Sq.', 'London', 'WA1 1DP', 'UK'),\n",
              " (5, 'Berglunds snabbköp', 'Christina Berglund', 'Berguvsvägen 8', 'Luleå', 'S-958 22', 'Sweden'),\n",
              " (6, 'Blauer See Delikatessen', 'Hanna Moos', 'Forsterstr. 57', 'Mannheim', 68306, 'Germany')]"
            ]
          },
          "metadata": {},
          "execution_count": 154
        }
      ]
    },
    {
      "cell_type": "code",
      "metadata": {
        "colab": {
          "base_uri": "https://localhost:8080/",
          "height": 182
        },
        "id": "axwJH-7RjtHO",
        "outputId": "88d6b518-7c29-4135-9345-b14c25507eb7"
      },
      "source": [
        "%%sql\n",
        "SELECT * FROM Products WHERE Price BETWEEN 10 AND 20 LIMIT 5;"
      ],
      "execution_count": null,
      "outputs": [
        {
          "output_type": "stream",
          "name": "stdout",
          "text": [
            " * sqlite:///customers.db\n",
            "Done.\n"
          ]
        },
        {
          "output_type": "execute_result",
          "data": {
            "text/html": [
              "<table>\n",
              "    <thead>\n",
              "        <tr>\n",
              "            <th>ProductID</th>\n",
              "            <th>ProductName</th>\n",
              "            <th>SupplierID</th>\n",
              "            <th>CategoryID</th>\n",
              "            <th>Unit</th>\n",
              "            <th>Price</th>\n",
              "        </tr>\n",
              "    </thead>\n",
              "    <tbody>\n",
              "        <tr>\n",
              "            <td>1</td>\n",
              "            <td>Chais</td>\n",
              "            <td>1</td>\n",
              "            <td>1</td>\n",
              "            <td>10 boxes x 20 bags</td>\n",
              "            <td>18.0</td>\n",
              "        </tr>\n",
              "        <tr>\n",
              "            <td>2</td>\n",
              "            <td>Chang</td>\n",
              "            <td>1</td>\n",
              "            <td>1</td>\n",
              "            <td>24 - 12 oz bottles</td>\n",
              "            <td>19.0</td>\n",
              "        </tr>\n",
              "        <tr>\n",
              "            <td>3</td>\n",
              "            <td>Aniseed Syrup</td>\n",
              "            <td>1</td>\n",
              "            <td>2</td>\n",
              "            <td>12 - 550 ml bottles</td>\n",
              "            <td>10.0</td>\n",
              "        </tr>\n",
              "        <tr>\n",
              "            <td>15</td>\n",
              "            <td>Genen Shouyu</td>\n",
              "            <td>6</td>\n",
              "            <td>2</td>\n",
              "            <td>24 - 250 ml bottles</td>\n",
              "            <td>15.5</td>\n",
              "        </tr>\n",
              "        <tr>\n",
              "            <td>16</td>\n",
              "            <td>Pavlova</td>\n",
              "            <td>7</td>\n",
              "            <td>3</td>\n",
              "            <td>32 - 500 g boxes</td>\n",
              "            <td>17.45</td>\n",
              "        </tr>\n",
              "    </tbody>\n",
              "</table>"
            ],
            "text/plain": [
              "[(1, 'Chais', 1, 1, '10 boxes x 20 bags', 18.0),\n",
              " (2, 'Chang', 1, 1, '24 - 12 oz bottles', 19.0),\n",
              " (3, 'Aniseed Syrup', 1, 2, '12 - 550 ml bottles', 10.0),\n",
              " (15, 'Genen Shouyu', 6, 2, '24 - 250 ml bottles', 15.5),\n",
              " (16, 'Pavlova', 7, 3, '32 - 500 g boxes', 17.45)]"
            ]
          },
          "metadata": {},
          "execution_count": 155
        }
      ]
    },
    {
      "cell_type": "code",
      "metadata": {
        "colab": {
          "base_uri": "https://localhost:8080/",
          "height": 182
        },
        "id": "6_7ASCbBq7Vm",
        "outputId": "14931013-341f-4c1b-a617-2339dc9c2b5d"
      },
      "source": [
        "%%sql\n",
        "SELECT * FROM Products WHERE Price BETWEEN 10 AND 20 LIMIT 5;"
      ],
      "execution_count": null,
      "outputs": [
        {
          "output_type": "stream",
          "name": "stdout",
          "text": [
            " * sqlite:///customers.db\n",
            "Done.\n"
          ]
        },
        {
          "output_type": "execute_result",
          "data": {
            "text/html": [
              "<table>\n",
              "    <thead>\n",
              "        <tr>\n",
              "            <th>ProductID</th>\n",
              "            <th>ProductName</th>\n",
              "            <th>SupplierID</th>\n",
              "            <th>CategoryID</th>\n",
              "            <th>Unit</th>\n",
              "            <th>Price</th>\n",
              "        </tr>\n",
              "    </thead>\n",
              "    <tbody>\n",
              "        <tr>\n",
              "            <td>1</td>\n",
              "            <td>Chais</td>\n",
              "            <td>1</td>\n",
              "            <td>1</td>\n",
              "            <td>10 boxes x 20 bags</td>\n",
              "            <td>18.0</td>\n",
              "        </tr>\n",
              "        <tr>\n",
              "            <td>2</td>\n",
              "            <td>Chang</td>\n",
              "            <td>1</td>\n",
              "            <td>1</td>\n",
              "            <td>24 - 12 oz bottles</td>\n",
              "            <td>19.0</td>\n",
              "        </tr>\n",
              "        <tr>\n",
              "            <td>3</td>\n",
              "            <td>Aniseed Syrup</td>\n",
              "            <td>1</td>\n",
              "            <td>2</td>\n",
              "            <td>12 - 550 ml bottles</td>\n",
              "            <td>10.0</td>\n",
              "        </tr>\n",
              "        <tr>\n",
              "            <td>15</td>\n",
              "            <td>Genen Shouyu</td>\n",
              "            <td>6</td>\n",
              "            <td>2</td>\n",
              "            <td>24 - 250 ml bottles</td>\n",
              "            <td>15.5</td>\n",
              "        </tr>\n",
              "        <tr>\n",
              "            <td>16</td>\n",
              "            <td>Pavlova</td>\n",
              "            <td>7</td>\n",
              "            <td>3</td>\n",
              "            <td>32 - 500 g boxes</td>\n",
              "            <td>17.45</td>\n",
              "        </tr>\n",
              "    </tbody>\n",
              "</table>"
            ],
            "text/plain": [
              "[(1, 'Chais', 1, 1, '10 boxes x 20 bags', 18.0),\n",
              " (2, 'Chang', 1, 1, '24 - 12 oz bottles', 19.0),\n",
              " (3, 'Aniseed Syrup', 1, 2, '12 - 550 ml bottles', 10.0),\n",
              " (15, 'Genen Shouyu', 6, 2, '24 - 250 ml bottles', 15.5),\n",
              " (16, 'Pavlova', 7, 3, '32 - 500 g boxes', 17.45)]"
            ]
          },
          "metadata": {},
          "execution_count": 157
        }
      ]
    },
    {
      "cell_type": "code",
      "metadata": {
        "colab": {
          "base_uri": "https://localhost:8080/",
          "height": 182
        },
        "id": "ySIIdVejrC0k",
        "outputId": "4bca4a8d-ac13-402a-b2f0-a6799d407555"
      },
      "source": [
        "%%sql\n",
        "SELECT * FROM Products WHERE Price BETWEEN 10 AND 20 AND CategoryID NOT IN (1,2,3) LIMIT 5;"
      ],
      "execution_count": null,
      "outputs": [
        {
          "output_type": "stream",
          "name": "stdout",
          "text": [
            " * sqlite:///customers.db\n",
            "Done.\n"
          ]
        },
        {
          "output_type": "execute_result",
          "data": {
            "text/html": [
              "<table>\n",
              "    <thead>\n",
              "        <tr>\n",
              "            <th>ProductID</th>\n",
              "            <th>ProductName</th>\n",
              "            <th>SupplierID</th>\n",
              "            <th>CategoryID</th>\n",
              "            <th>Unit</th>\n",
              "            <th>Price</th>\n",
              "        </tr>\n",
              "    </thead>\n",
              "    <tbody>\n",
              "        <tr>\n",
              "            <td>31</td>\n",
              "            <td>Gorgonzola Telino</td>\n",
              "            <td>14</td>\n",
              "            <td>4</td>\n",
              "            <td>12 - 100 g pkgs</td>\n",
              "            <td>12.5</td>\n",
              "        </tr>\n",
              "        <tr>\n",
              "            <td>36</td>\n",
              "            <td>Inlagd Sill</td>\n",
              "            <td>17</td>\n",
              "            <td>8</td>\n",
              "            <td>24 - 250 g jars</td>\n",
              "            <td>19.0</td>\n",
              "        </tr>\n",
              "        <tr>\n",
              "            <td>40</td>\n",
              "            <td>Boston Crab Meat</td>\n",
              "            <td>19</td>\n",
              "            <td>8</td>\n",
              "            <td>24 - 4 oz tins</td>\n",
              "            <td>18.4</td>\n",
              "        </tr>\n",
              "        <tr>\n",
              "            <td>42</td>\n",
              "            <td>Singaporean Hokkien Fried Mee</td>\n",
              "            <td>20</td>\n",
              "            <td>5</td>\n",
              "            <td>32 - 1 kg pkgs.</td>\n",
              "            <td>14.0</td>\n",
              "        </tr>\n",
              "        <tr>\n",
              "            <td>46</td>\n",
              "            <td>Spegesild</td>\n",
              "            <td>21</td>\n",
              "            <td>8</td>\n",
              "            <td>4 - 450 g glasses</td>\n",
              "            <td>12.0</td>\n",
              "        </tr>\n",
              "    </tbody>\n",
              "</table>"
            ],
            "text/plain": [
              "[(31, 'Gorgonzola Telino', 14, 4, '12 - 100 g pkgs', 12.5),\n",
              " (36, 'Inlagd Sill', 17, 8, '24 - 250 g jars', 19.0),\n",
              " (40, 'Boston Crab Meat', 19, 8, '24 - 4 oz tins', 18.4),\n",
              " (42, 'Singaporean Hokkien Fried Mee', 20, 5, '32 - 1 kg pkgs.', 14.0),\n",
              " (46, 'Spegesild', 21, 8, '4 - 450 g glasses', 12.0)]"
            ]
          },
          "metadata": {},
          "execution_count": 159
        }
      ]
    },
    {
      "cell_type": "code",
      "metadata": {
        "colab": {
          "base_uri": "https://localhost:8080/",
          "height": 182
        },
        "id": "mgkmehjJrPPw",
        "outputId": "3c0ab172-92e8-4465-b740-a97340a6ecff"
      },
      "source": [
        "%%sql\n",
        "SELECT * FROM Products WHERE ProductName BETWEEN 'Carnarvon Tigers' AND 'Mozzarella di Giovanni' ORDER BY ProductName LIMIT 5;"
      ],
      "execution_count": null,
      "outputs": [
        {
          "output_type": "stream",
          "name": "stdout",
          "text": [
            " * sqlite:///customers.db\n",
            "Done.\n"
          ]
        },
        {
          "output_type": "execute_result",
          "data": {
            "text/html": [
              "<table>\n",
              "    <thead>\n",
              "        <tr>\n",
              "            <th>ProductID</th>\n",
              "            <th>ProductName</th>\n",
              "            <th>SupplierID</th>\n",
              "            <th>CategoryID</th>\n",
              "            <th>Unit</th>\n",
              "            <th>Price</th>\n",
              "        </tr>\n",
              "    </thead>\n",
              "    <tbody>\n",
              "        <tr>\n",
              "            <td>18</td>\n",
              "            <td>Carnarvon Tigers</td>\n",
              "            <td>7</td>\n",
              "            <td>8</td>\n",
              "            <td>16 kg pkg.</td>\n",
              "            <td>62.5</td>\n",
              "        </tr>\n",
              "        <tr>\n",
              "            <td>1</td>\n",
              "            <td>Chais</td>\n",
              "            <td>1</td>\n",
              "            <td>1</td>\n",
              "            <td>10 boxes x 20 bags</td>\n",
              "            <td>18.0</td>\n",
              "        </tr>\n",
              "        <tr>\n",
              "            <td>2</td>\n",
              "            <td>Chang</td>\n",
              "            <td>1</td>\n",
              "            <td>1</td>\n",
              "            <td>24 - 12 oz bottles</td>\n",
              "            <td>19.0</td>\n",
              "        </tr>\n",
              "        <tr>\n",
              "            <td>39</td>\n",
              "            <td>Chartreuse verte</td>\n",
              "            <td>18</td>\n",
              "            <td>1</td>\n",
              "            <td>750 cc per bottle</td>\n",
              "            <td>18.0</td>\n",
              "        </tr>\n",
              "        <tr>\n",
              "            <td>4</td>\n",
              "            <td>Chef Anton&#x27;s Cajun Seasoning</td>\n",
              "            <td>2</td>\n",
              "            <td>2</td>\n",
              "            <td>48 - 6 oz jars</td>\n",
              "            <td>22.0</td>\n",
              "        </tr>\n",
              "    </tbody>\n",
              "</table>"
            ],
            "text/plain": [
              "[(18, 'Carnarvon Tigers', 7, 8, '16 kg pkg.', 62.5),\n",
              " (1, 'Chais', 1, 1, '10 boxes x 20 bags', 18.0),\n",
              " (2, 'Chang', 1, 1, '24 - 12 oz bottles', 19.0),\n",
              " (39, 'Chartreuse verte', 18, 1, '750 cc per bottle', 18.0),\n",
              " (4, \"Chef Anton's Cajun Seasoning\", 2, 2, '48 - 6 oz jars', 22.0)]"
            ]
          },
          "metadata": {},
          "execution_count": 161
        }
      ]
    },
    {
      "cell_type": "code",
      "metadata": {
        "colab": {
          "base_uri": "https://localhost:8080/",
          "height": 182
        },
        "id": "vRYWHU80rWSU",
        "outputId": "6a40aa88-8158-4410-8ec3-7093e66f7e2f"
      },
      "source": [
        "%%sql\n",
        "SELECT * FROM Products WHERE ProductName NOT BETWEEN 'Carnarvon Tigers' AND 'Mozzarella di Giovanni' ORDER BY ProductName LIMIT 5;\n"
      ],
      "execution_count": null,
      "outputs": [
        {
          "output_type": "stream",
          "name": "stdout",
          "text": [
            " * sqlite:///customers.db\n",
            "Done.\n"
          ]
        },
        {
          "output_type": "execute_result",
          "data": {
            "text/html": [
              "<table>\n",
              "    <thead>\n",
              "        <tr>\n",
              "            <th>ProductID</th>\n",
              "            <th>ProductName</th>\n",
              "            <th>SupplierID</th>\n",
              "            <th>CategoryID</th>\n",
              "            <th>Unit</th>\n",
              "            <th>Price</th>\n",
              "        </tr>\n",
              "    </thead>\n",
              "    <tbody>\n",
              "        <tr>\n",
              "            <td>17</td>\n",
              "            <td>Alice Mutton</td>\n",
              "            <td>7</td>\n",
              "            <td>6</td>\n",
              "            <td>20 - 1 kg tins</td>\n",
              "            <td>39.0</td>\n",
              "        </tr>\n",
              "        <tr>\n",
              "            <td>3</td>\n",
              "            <td>Aniseed Syrup</td>\n",
              "            <td>1</td>\n",
              "            <td>2</td>\n",
              "            <td>12 - 550 ml bottles</td>\n",
              "            <td>10.0</td>\n",
              "        </tr>\n",
              "        <tr>\n",
              "            <td>40</td>\n",
              "            <td>Boston Crab Meat</td>\n",
              "            <td>19</td>\n",
              "            <td>8</td>\n",
              "            <td>24 - 4 oz tins</td>\n",
              "            <td>18.4</td>\n",
              "        </tr>\n",
              "        <tr>\n",
              "            <td>60</td>\n",
              "            <td>Camembert Pierrot</td>\n",
              "            <td>28</td>\n",
              "            <td>4</td>\n",
              "            <td>15 - 300 g rounds</td>\n",
              "            <td>34.0</td>\n",
              "        </tr>\n",
              "        <tr>\n",
              "            <td>30</td>\n",
              "            <td>Nord-Ost Matjeshering</td>\n",
              "            <td>13</td>\n",
              "            <td>8</td>\n",
              "            <td>10 - 200 g glasses</td>\n",
              "            <td>25.89</td>\n",
              "        </tr>\n",
              "    </tbody>\n",
              "</table>"
            ],
            "text/plain": [
              "[(17, 'Alice Mutton', 7, 6, '20 - 1 kg tins', 39.0),\n",
              " (3, 'Aniseed Syrup', 1, 2, '12 - 550 ml bottles', 10.0),\n",
              " (40, 'Boston Crab Meat', 19, 8, '24 - 4 oz tins', 18.4),\n",
              " (60, 'Camembert Pierrot', 28, 4, '15 - 300 g rounds', 34.0),\n",
              " (30, 'Nord-Ost Matjeshering', 13, 8, '10 - 200 g glasses', 25.89)]"
            ]
          },
          "metadata": {},
          "execution_count": 163
        }
      ]
    },
    {
      "cell_type": "code",
      "metadata": {
        "colab": {
          "base_uri": "https://localhost:8080/",
          "height": 182
        },
        "id": "rsiynPxxrnur",
        "outputId": "d7283111-7da6-44fd-a12d-39ecb2a85b46"
      },
      "source": [
        "%%sql\n",
        "SELECT * FROM Orders WHERE OrderDate BETWEEN '1996-07-01' AND '1996-07-31' LIMIT 5"
      ],
      "execution_count": null,
      "outputs": [
        {
          "output_type": "stream",
          "name": "stdout",
          "text": [
            " * sqlite:///customers.db\n",
            "Done.\n"
          ]
        },
        {
          "output_type": "execute_result",
          "data": {
            "text/html": [
              "<table>\n",
              "    <thead>\n",
              "        <tr>\n",
              "            <th>OrderID</th>\n",
              "            <th>CustomerID</th>\n",
              "            <th>EmployeeID</th>\n",
              "            <th>OrderDate</th>\n",
              "            <th>ShipperID</th>\n",
              "        </tr>\n",
              "    </thead>\n",
              "    <tbody>\n",
              "        <tr>\n",
              "            <td>10248</td>\n",
              "            <td>90</td>\n",
              "            <td>5</td>\n",
              "            <td>1996-07-04 00:00:00</td>\n",
              "            <td>3</td>\n",
              "        </tr>\n",
              "        <tr>\n",
              "            <td>10249</td>\n",
              "            <td>81</td>\n",
              "            <td>6</td>\n",
              "            <td>1996-07-05 00:00:00</td>\n",
              "            <td>1</td>\n",
              "        </tr>\n",
              "        <tr>\n",
              "            <td>10250</td>\n",
              "            <td>34</td>\n",
              "            <td>4</td>\n",
              "            <td>1996-07-08 00:00:00</td>\n",
              "            <td>2</td>\n",
              "        </tr>\n",
              "        <tr>\n",
              "            <td>10251</td>\n",
              "            <td>84</td>\n",
              "            <td>3</td>\n",
              "            <td>1996-07-08 00:00:00</td>\n",
              "            <td>1</td>\n",
              "        </tr>\n",
              "        <tr>\n",
              "            <td>10252</td>\n",
              "            <td>76</td>\n",
              "            <td>4</td>\n",
              "            <td>1996-07-09 00:00:00</td>\n",
              "            <td>2</td>\n",
              "        </tr>\n",
              "    </tbody>\n",
              "</table>"
            ],
            "text/plain": [
              "[(10248, 90, 5, '1996-07-04 00:00:00', 3),\n",
              " (10249, 81, 6, '1996-07-05 00:00:00', 1),\n",
              " (10250, 34, 4, '1996-07-08 00:00:00', 2),\n",
              " (10251, 84, 3, '1996-07-08 00:00:00', 1),\n",
              " (10252, 76, 4, '1996-07-09 00:00:00', 2)]"
            ]
          },
          "metadata": {},
          "execution_count": 169
        }
      ]
    },
    {
      "cell_type": "code",
      "metadata": {
        "colab": {
          "base_uri": "https://localhost:8080/",
          "height": 182
        },
        "id": "xy0mURzHsadK",
        "outputId": "ed5bd9bb-283a-48da-f193-09fd45c20938"
      },
      "source": [
        "%%sql\n",
        "SELECT CustomerID AS ID, CustomerName AS Customer FROM Customers LIMIT 5"
      ],
      "execution_count": null,
      "outputs": [
        {
          "output_type": "stream",
          "name": "stdout",
          "text": [
            " * sqlite:///customers.db\n",
            "Done.\n"
          ]
        },
        {
          "output_type": "execute_result",
          "data": {
            "text/html": [
              "<table>\n",
              "    <thead>\n",
              "        <tr>\n",
              "            <th>ID</th>\n",
              "            <th>Customer</th>\n",
              "        </tr>\n",
              "    </thead>\n",
              "    <tbody>\n",
              "        <tr>\n",
              "            <td>2</td>\n",
              "            <td>Ana Trujillo Emparedados y helados</td>\n",
              "        </tr>\n",
              "        <tr>\n",
              "            <td>3</td>\n",
              "            <td>Antonio Moreno Taquería</td>\n",
              "        </tr>\n",
              "        <tr>\n",
              "            <td>4</td>\n",
              "            <td>Around the Horn</td>\n",
              "        </tr>\n",
              "        <tr>\n",
              "            <td>5</td>\n",
              "            <td>Berglunds snabbköp</td>\n",
              "        </tr>\n",
              "        <tr>\n",
              "            <td>6</td>\n",
              "            <td>Blauer See Delikatessen</td>\n",
              "        </tr>\n",
              "    </tbody>\n",
              "</table>"
            ],
            "text/plain": [
              "[(2, 'Ana Trujillo Emparedados y helados'),\n",
              " (3, 'Antonio Moreno Taquería'),\n",
              " (4, 'Around the Horn'),\n",
              " (5, 'Berglunds snabbköp'),\n",
              " (6, 'Blauer See Delikatessen')]"
            ]
          },
          "metadata": {},
          "execution_count": 171
        }
      ]
    },
    {
      "cell_type": "code",
      "metadata": {
        "colab": {
          "base_uri": "https://localhost:8080/",
          "height": 1000
        },
        "id": "pQrGhc0QspAj",
        "outputId": "e19c27cc-088d-4550-9ead-18dfa607e81b"
      },
      "source": [
        "%%sql\n",
        "SELECT Customers.CustomerID, Customers.CustomerName, Orders.OrderDate FROM Orders LEFT JOIN Customers ON Orders.CustomerID=Customers.CustomerID ORDER BY Customers.CustomerID ;"
      ],
      "execution_count": null,
      "outputs": [
        {
          "output_type": "stream",
          "name": "stdout",
          "text": [
            " * sqlite:///customers.db\n",
            "Done.\n"
          ]
        },
        {
          "output_type": "execute_result",
          "data": {
            "text/html": [
              "<table>\n",
              "    <thead>\n",
              "        <tr>\n",
              "            <th>CustomerID</th>\n",
              "            <th>CustomerName</th>\n",
              "            <th>OrderDate</th>\n",
              "        </tr>\n",
              "    </thead>\n",
              "    <tbody>\n",
              "        <tr>\n",
              "            <td>2</td>\n",
              "            <td>Ana Trujillo Emparedados y helados</td>\n",
              "            <td>1996-09-18 00:00:00</td>\n",
              "        </tr>\n",
              "        <tr>\n",
              "            <td>3</td>\n",
              "            <td>Antonio Moreno Taquería</td>\n",
              "            <td>1996-11-27 00:00:00</td>\n",
              "        </tr>\n",
              "        <tr>\n",
              "            <td>4</td>\n",
              "            <td>Around the Horn</td>\n",
              "            <td>1996-11-15 00:00:00</td>\n",
              "        </tr>\n",
              "        <tr>\n",
              "            <td>4</td>\n",
              "            <td>Around the Horn</td>\n",
              "            <td>1996-12-16 00:00:00</td>\n",
              "        </tr>\n",
              "        <tr>\n",
              "            <td>5</td>\n",
              "            <td>Berglunds snabbköp</td>\n",
              "            <td>1996-08-12 00:00:00</td>\n",
              "        </tr>\n",
              "        <tr>\n",
              "            <td>5</td>\n",
              "            <td>Berglunds snabbköp</td>\n",
              "            <td>1996-08-14 00:00:00</td>\n",
              "        </tr>\n",
              "        <tr>\n",
              "            <td>5</td>\n",
              "            <td>Berglunds snabbköp</td>\n",
              "            <td>1996-12-16 00:00:00</td>\n",
              "        </tr>\n",
              "        <tr>\n",
              "            <td>7</td>\n",
              "            <td>Blondel père et fils</td>\n",
              "            <td>1996-07-25 00:00:00</td>\n",
              "        </tr>\n",
              "        <tr>\n",
              "            <td>7</td>\n",
              "            <td>Blondel père et fils</td>\n",
              "            <td>1996-09-04 00:00:00</td>\n",
              "        </tr>\n",
              "        <tr>\n",
              "            <td>7</td>\n",
              "            <td>Blondel père et fils</td>\n",
              "            <td>1996-11-22 00:00:00</td>\n",
              "        </tr>\n",
              "        <tr>\n",
              "            <td>7</td>\n",
              "            <td>Blondel père et fils</td>\n",
              "            <td>1997-02-05 00:00:00</td>\n",
              "        </tr>\n",
              "        <tr>\n",
              "            <td>8</td>\n",
              "            <td>Bólido Comidas preparadas</td>\n",
              "            <td>1996-10-10 00:00:00</td>\n",
              "        </tr>\n",
              "        <tr>\n",
              "            <td>9</td>\n",
              "            <td>Bon app&#x27;</td>\n",
              "            <td>1996-10-16 00:00:00</td>\n",
              "        </tr>\n",
              "        <tr>\n",
              "            <td>9</td>\n",
              "            <td>Bon app&#x27;</td>\n",
              "            <td>1996-10-29 00:00:00</td>\n",
              "        </tr>\n",
              "        <tr>\n",
              "            <td>9</td>\n",
              "            <td>Bon app&#x27;</td>\n",
              "            <td>1996-11-25 00:00:00</td>\n",
              "        </tr>\n",
              "        <tr>\n",
              "            <td>10</td>\n",
              "            <td>Bottom-Dollar Marketse</td>\n",
              "            <td>1996-12-20 00:00:00</td>\n",
              "        </tr>\n",
              "        <tr>\n",
              "            <td>10</td>\n",
              "            <td>Bottom-Dollar Marketse</td>\n",
              "            <td>1997-01-10 00:00:00</td>\n",
              "        </tr>\n",
              "        <tr>\n",
              "            <td>10</td>\n",
              "            <td>Bottom-Dollar Marketse</td>\n",
              "            <td>1997-01-10 00:00:00</td>\n",
              "        </tr>\n",
              "        <tr>\n",
              "            <td>10</td>\n",
              "            <td>Bottom-Dollar Marketse</td>\n",
              "            <td>1997-01-30 00:00:00</td>\n",
              "        </tr>\n",
              "        <tr>\n",
              "            <td>11</td>\n",
              "            <td>B&#x27;s Beverages</td>\n",
              "            <td>1996-08-26 00:00:00</td>\n",
              "        </tr>\n",
              "        <tr>\n",
              "            <td>13</td>\n",
              "            <td>Centro comercial Moctezuma</td>\n",
              "            <td>1996-07-18 00:00:00</td>\n",
              "        </tr>\n",
              "        <tr>\n",
              "            <td>14</td>\n",
              "            <td>Chop-suey Chinese</td>\n",
              "            <td>1996-07-11 00:00:00</td>\n",
              "        </tr>\n",
              "        <tr>\n",
              "            <td>14</td>\n",
              "            <td>Chop-suey Chinese</td>\n",
              "            <td>1996-12-03 00:00:00</td>\n",
              "        </tr>\n",
              "        <tr>\n",
              "            <td>15</td>\n",
              "            <td>Comércio Mineiro</td>\n",
              "            <td>1996-08-27 00:00:00</td>\n",
              "        </tr>\n",
              "        <tr>\n",
              "            <td>16</td>\n",
              "            <td>Consolidated Holdings</td>\n",
              "            <td>1997-02-04 00:00:00</td>\n",
              "        </tr>\n",
              "        <tr>\n",
              "            <td>17</td>\n",
              "            <td>Drachenblut Delikatessend</td>\n",
              "            <td>1996-11-26 00:00:00</td>\n",
              "        </tr>\n",
              "        <tr>\n",
              "            <td>17</td>\n",
              "            <td>Drachenblut Delikatessend</td>\n",
              "            <td>1996-12-23 00:00:00</td>\n",
              "        </tr>\n",
              "        <tr>\n",
              "            <td>18</td>\n",
              "            <td>Du monde entier</td>\n",
              "            <td>1996-09-20 00:00:00</td>\n",
              "        </tr>\n",
              "        <tr>\n",
              "            <td>19</td>\n",
              "            <td>Eastern Connection</td>\n",
              "            <td>1996-11-26 00:00:00</td>\n",
              "        </tr>\n",
              "        <tr>\n",
              "            <td>19</td>\n",
              "            <td>Eastern Connection</td>\n",
              "            <td>1997-01-01 00:00:00</td>\n",
              "        </tr>\n",
              "        <tr>\n",
              "            <td>20</td>\n",
              "            <td>Ernst Handel</td>\n",
              "            <td>1996-07-17 00:00:00</td>\n",
              "        </tr>\n",
              "        <tr>\n",
              "            <td>20</td>\n",
              "            <td>Ernst Handel</td>\n",
              "            <td>1996-07-23 00:00:00</td>\n",
              "        </tr>\n",
              "        <tr>\n",
              "            <td>20</td>\n",
              "            <td>Ernst Handel</td>\n",
              "            <td>1996-11-11 00:00:00</td>\n",
              "        </tr>\n",
              "        <tr>\n",
              "            <td>20</td>\n",
              "            <td>Ernst Handel</td>\n",
              "            <td>1996-11-29 00:00:00</td>\n",
              "        </tr>\n",
              "        <tr>\n",
              "            <td>20</td>\n",
              "            <td>Ernst Handel</td>\n",
              "            <td>1996-12-13 00:00:00</td>\n",
              "        </tr>\n",
              "        <tr>\n",
              "            <td>20</td>\n",
              "            <td>Ernst Handel</td>\n",
              "            <td>1996-12-23 00:00:00</td>\n",
              "        </tr>\n",
              "        <tr>\n",
              "            <td>20</td>\n",
              "            <td>Ernst Handel</td>\n",
              "            <td>1997-01-02 00:00:00</td>\n",
              "        </tr>\n",
              "        <tr>\n",
              "            <td>20</td>\n",
              "            <td>Ernst Handel</td>\n",
              "            <td>1997-01-03 00:00:00</td>\n",
              "        </tr>\n",
              "        <tr>\n",
              "            <td>20</td>\n",
              "            <td>Ernst Handel</td>\n",
              "            <td>1997-01-30 00:00:00</td>\n",
              "        </tr>\n",
              "        <tr>\n",
              "            <td>20</td>\n",
              "            <td>Ernst Handel</td>\n",
              "            <td>1997-02-11 00:00:00</td>\n",
              "        </tr>\n",
              "        <tr>\n",
              "            <td>21</td>\n",
              "            <td>Familia Arquibaldo</td>\n",
              "            <td>1996-11-06 00:00:00</td>\n",
              "        </tr>\n",
              "        <tr>\n",
              "            <td>21</td>\n",
              "            <td>Familia Arquibaldo</td>\n",
              "            <td>1996-12-18 00:00:00</td>\n",
              "        </tr>\n",
              "        <tr>\n",
              "            <td>21</td>\n",
              "            <td>Familia Arquibaldo</td>\n",
              "            <td>1997-01-14 00:00:00</td>\n",
              "        </tr>\n",
              "        <tr>\n",
              "            <td>23</td>\n",
              "            <td>Folies gourmandes</td>\n",
              "            <td>1997-01-08 00:00:00</td>\n",
              "        </tr>\n",
              "        <tr>\n",
              "            <td>24</td>\n",
              "            <td>Folk och fä HB</td>\n",
              "            <td>1996-07-24 00:00:00</td>\n",
              "        </tr>\n",
              "        <tr>\n",
              "            <td>24</td>\n",
              "            <td>Folk och fä HB</td>\n",
              "            <td>1996-10-11 00:00:00</td>\n",
              "        </tr>\n",
              "        <tr>\n",
              "            <td>24</td>\n",
              "            <td>Folk och fä HB</td>\n",
              "            <td>1996-12-10 00:00:00</td>\n",
              "        </tr>\n",
              "        <tr>\n",
              "            <td>24</td>\n",
              "            <td>Folk och fä HB</td>\n",
              "            <td>1997-02-03 00:00:00</td>\n",
              "        </tr>\n",
              "        <tr>\n",
              "            <td>25</td>\n",
              "            <td>Frankenversand</td>\n",
              "            <td>1996-07-29 00:00:00</td>\n",
              "        </tr>\n",
              "        <tr>\n",
              "            <td>25</td>\n",
              "            <td>Frankenversand</td>\n",
              "            <td>1996-10-24 00:00:00</td>\n",
              "        </tr>\n",
              "        <tr>\n",
              "            <td>25</td>\n",
              "            <td>Frankenversand</td>\n",
              "            <td>1996-10-30 00:00:00</td>\n",
              "        </tr>\n",
              "        <tr>\n",
              "            <td>25</td>\n",
              "            <td>Frankenversand</td>\n",
              "            <td>1996-12-27 00:00:00</td>\n",
              "        </tr>\n",
              "        <tr>\n",
              "            <td>27</td>\n",
              "            <td>Franchi S.p.A.</td>\n",
              "            <td>1997-01-22 00:00:00</td>\n",
              "        </tr>\n",
              "        <tr>\n",
              "            <td>28</td>\n",
              "            <td>Furia Bacalhau e Frutos do Mar</td>\n",
              "            <td>1996-10-14 00:00:00</td>\n",
              "        </tr>\n",
              "        <tr>\n",
              "            <td>28</td>\n",
              "            <td>Furia Bacalhau e Frutos do Mar</td>\n",
              "            <td>1996-11-12 00:00:00</td>\n",
              "        </tr>\n",
              "        <tr>\n",
              "            <td>29</td>\n",
              "            <td>Galería del gastrónomo</td>\n",
              "            <td>1996-11-28 00:00:00</td>\n",
              "        </tr>\n",
              "        <tr>\n",
              "            <td>29</td>\n",
              "            <td>Galería del gastrónomo</td>\n",
              "            <td>1997-01-27 00:00:00</td>\n",
              "        </tr>\n",
              "        <tr>\n",
              "            <td>30</td>\n",
              "            <td>Godos Cocina Típica</td>\n",
              "            <td>1996-09-11 00:00:00</td>\n",
              "        </tr>\n",
              "        <tr>\n",
              "            <td>31</td>\n",
              "            <td>Gourmet Lanchonetes</td>\n",
              "            <td>1997-01-23 00:00:00</td>\n",
              "        </tr>\n",
              "        <tr>\n",
              "            <td>33</td>\n",
              "            <td>GROSELLA-Restaurante</td>\n",
              "            <td>1996-07-30 00:00:00</td>\n",
              "        </tr>\n",
              "        <tr>\n",
              "            <td>34</td>\n",
              "            <td>Hanari Carnes</td>\n",
              "            <td>1996-07-08 00:00:00</td>\n",
              "        </tr>\n",
              "        <tr>\n",
              "            <td>34</td>\n",
              "            <td>Hanari Carnes</td>\n",
              "            <td>1996-07-10 00:00:00</td>\n",
              "        </tr>\n",
              "        <tr>\n",
              "            <td>35</td>\n",
              "            <td>HILARIÓN-Abastos</td>\n",
              "            <td>1996-07-16 00:00:00</td>\n",
              "        </tr>\n",
              "        <tr>\n",
              "            <td>35</td>\n",
              "            <td>HILARIÓN-Abastos</td>\n",
              "            <td>1996-12-26 00:00:00</td>\n",
              "        </tr>\n",
              "        <tr>\n",
              "            <td>36</td>\n",
              "            <td>Hungry Coyote Import Store</td>\n",
              "            <td>1996-12-06 00:00:00</td>\n",
              "        </tr>\n",
              "        <tr>\n",
              "            <td>36</td>\n",
              "            <td>Hungry Coyote Import Store</td>\n",
              "            <td>1996-12-25 00:00:00</td>\n",
              "        </tr>\n",
              "        <tr>\n",
              "            <td>36</td>\n",
              "            <td>Hungry Coyote Import Store</td>\n",
              "            <td>1997-01-15 00:00:00</td>\n",
              "        </tr>\n",
              "        <tr>\n",
              "            <td>37</td>\n",
              "            <td>Hungry Owl All-Night Grocers</td>\n",
              "            <td>1996-09-05 00:00:00</td>\n",
              "        </tr>\n",
              "        <tr>\n",
              "            <td>37</td>\n",
              "            <td>Hungry Owl All-Night Grocers</td>\n",
              "            <td>1996-09-19 00:00:00</td>\n",
              "        </tr>\n",
              "        <tr>\n",
              "            <td>37</td>\n",
              "            <td>Hungry Owl All-Night Grocers</td>\n",
              "            <td>1996-10-22 00:00:00</td>\n",
              "        </tr>\n",
              "        <tr>\n",
              "            <td>37</td>\n",
              "            <td>Hungry Owl All-Night Grocers</td>\n",
              "            <td>1996-12-05 00:00:00</td>\n",
              "        </tr>\n",
              "        <tr>\n",
              "            <td>37</td>\n",
              "            <td>Hungry Owl All-Night Grocers</td>\n",
              "            <td>1996-12-12 00:00:00</td>\n",
              "        </tr>\n",
              "        <tr>\n",
              "            <td>37</td>\n",
              "            <td>Hungry Owl All-Night Grocers</td>\n",
              "            <td>1997-01-29 00:00:00</td>\n",
              "        </tr>\n",
              "        <tr>\n",
              "            <td>38</td>\n",
              "            <td>Island Trading</td>\n",
              "            <td>1996-09-26 00:00:00</td>\n",
              "        </tr>\n",
              "        <tr>\n",
              "            <td>38</td>\n",
              "            <td>Island Trading</td>\n",
              "            <td>1996-10-01 00:00:00</td>\n",
              "        </tr>\n",
              "        <tr>\n",
              "            <td>38</td>\n",
              "            <td>Island Trading</td>\n",
              "            <td>1996-10-03 00:00:00</td>\n",
              "        </tr>\n",
              "        <tr>\n",
              "            <td>39</td>\n",
              "            <td>Königlich Essen</td>\n",
              "            <td>1996-10-07 00:00:00</td>\n",
              "        </tr>\n",
              "        <tr>\n",
              "            <td>39</td>\n",
              "            <td>Königlich Essen</td>\n",
              "            <td>1996-10-09 00:00:00</td>\n",
              "        </tr>\n",
              "        <tr>\n",
              "            <td>41</td>\n",
              "            <td>La maison d&#x27;Asie</td>\n",
              "            <td>1996-11-11 00:00:00</td>\n",
              "        </tr>\n",
              "        <tr>\n",
              "            <td>41</td>\n",
              "            <td>La maison d&#x27;Asie</td>\n",
              "            <td>1996-11-20 00:00:00</td>\n",
              "        </tr>\n",
              "        <tr>\n",
              "            <td>41</td>\n",
              "            <td>La maison d&#x27;Asie</td>\n",
              "            <td>1996-12-03 00:00:00</td>\n",
              "        </tr>\n",
              "        <tr>\n",
              "            <td>41</td>\n",
              "            <td>La maison d&#x27;Asie</td>\n",
              "            <td>1997-01-14 00:00:00</td>\n",
              "        </tr>\n",
              "        <tr>\n",
              "            <td>41</td>\n",
              "            <td>La maison d&#x27;Asie</td>\n",
              "            <td>1997-01-24 00:00:00</td>\n",
              "        </tr>\n",
              "        <tr>\n",
              "            <td>44</td>\n",
              "            <td>Lehmanns Marktstand</td>\n",
              "            <td>1996-08-13 00:00:00</td>\n",
              "        </tr>\n",
              "        <tr>\n",
              "            <td>44</td>\n",
              "            <td>Lehmanns Marktstand</td>\n",
              "            <td>1996-08-19 00:00:00</td>\n",
              "        </tr>\n",
              "        <tr>\n",
              "            <td>44</td>\n",
              "            <td>Lehmanns Marktstand</td>\n",
              "            <td>1996-10-31 00:00:00</td>\n",
              "        </tr>\n",
              "        <tr>\n",
              "            <td>46</td>\n",
              "            <td>LILA-Supermercado</td>\n",
              "            <td>1996-08-16 00:00:00</td>\n",
              "        </tr>\n",
              "        <tr>\n",
              "            <td>46</td>\n",
              "            <td>LILA-Supermercado</td>\n",
              "            <td>1996-09-03 00:00:00</td>\n",
              "        </tr>\n",
              "        <tr>\n",
              "            <td>46</td>\n",
              "            <td>LILA-Supermercado</td>\n",
              "            <td>1996-10-16 00:00:00</td>\n",
              "        </tr>\n",
              "        <tr>\n",
              "            <td>46</td>\n",
              "            <td>LILA-Supermercado</td>\n",
              "            <td>1996-11-19 00:00:00</td>\n",
              "        </tr>\n",
              "        <tr>\n",
              "            <td>46</td>\n",
              "            <td>LILA-Supermercado</td>\n",
              "            <td>1996-12-12 00:00:00</td>\n",
              "        </tr>\n",
              "        <tr>\n",
              "            <td>47</td>\n",
              "            <td>LINO-Delicateses</td>\n",
              "            <td>1997-01-06 00:00:00</td>\n",
              "        </tr>\n",
              "        <tr>\n",
              "            <td>48</td>\n",
              "            <td>Lonesome Pine Restaurant</td>\n",
              "            <td>1996-09-17 00:00:00</td>\n",
              "        </tr>\n",
              "        <tr>\n",
              "            <td>48</td>\n",
              "            <td>Lonesome Pine Restaurant</td>\n",
              "            <td>1996-09-30 00:00:00</td>\n",
              "        </tr>\n",
              "        <tr>\n",
              "            <td>49</td>\n",
              "            <td>Magazzini Alimentari Riuniti</td>\n",
              "            <td>1996-08-07 00:00:00</td>\n",
              "        </tr>\n",
              "        <tr>\n",
              "            <td>49</td>\n",
              "            <td>Magazzini Alimentari Riuniti</td>\n",
              "            <td>1996-09-09 00:00:00</td>\n",
              "        </tr>\n",
              "        <tr>\n",
              "            <td>49</td>\n",
              "            <td>Magazzini Alimentari Riuniti</td>\n",
              "            <td>1997-01-03 00:00:00</td>\n",
              "        </tr>\n",
              "        <tr>\n",
              "            <td>51</td>\n",
              "            <td>Mère Paillarde</td>\n",
              "            <td>1996-10-17 00:00:00</td>\n",
              "        </tr>\n",
              "        <tr>\n",
              "            <td>51</td>\n",
              "            <td>Mère Paillarde</td>\n",
              "            <td>1996-10-28 00:00:00</td>\n",
              "        </tr>\n",
              "        <tr>\n",
              "            <td>51</td>\n",
              "            <td>Mère Paillarde</td>\n",
              "            <td>1996-12-09 00:00:00</td>\n",
              "        </tr>\n",
              "        <tr>\n",
              "            <td>51</td>\n",
              "            <td>Mère Paillarde</td>\n",
              "            <td>1997-01-23 00:00:00</td>\n",
              "        </tr>\n",
              "        <tr>\n",
              "            <td>51</td>\n",
              "            <td>Mère Paillarde</td>\n",
              "            <td>1997-02-07 00:00:00</td>\n",
              "        </tr>\n",
              "        <tr>\n",
              "            <td>52</td>\n",
              "            <td>Morgenstern Gesundkost</td>\n",
              "            <td>1996-08-09 00:00:00</td>\n",
              "        </tr>\n",
              "        <tr>\n",
              "            <td>54</td>\n",
              "            <td>Océano Atlántico Ltda.</td>\n",
              "            <td>1997-01-09 00:00:00</td>\n",
              "        </tr>\n",
              "        <tr>\n",
              "            <td>55</td>\n",
              "            <td>Old World Delicatessen</td>\n",
              "            <td>1996-07-19 00:00:00</td>\n",
              "        </tr>\n",
              "        <tr>\n",
              "            <td>55</td>\n",
              "            <td>Old World Delicatessen</td>\n",
              "            <td>1996-09-13 00:00:00</td>\n",
              "        </tr>\n",
              "        <tr>\n",
              "            <td>55</td>\n",
              "            <td>Old World Delicatessen</td>\n",
              "            <td>1996-10-25 00:00:00</td>\n",
              "        </tr>\n",
              "        <tr>\n",
              "            <td>55</td>\n",
              "            <td>Old World Delicatessen</td>\n",
              "            <td>1997-02-10 00:00:00</td>\n",
              "        </tr>\n",
              "        <tr>\n",
              "            <td>56</td>\n",
              "            <td>Ottilies Käseladen</td>\n",
              "            <td>1997-01-07 00:00:00</td>\n",
              "        </tr>\n",
              "        <tr>\n",
              "            <td>58</td>\n",
              "            <td>Pericles Comidas clásicas</td>\n",
              "            <td>1996-10-04 00:00:00</td>\n",
              "        </tr>\n",
              "        <tr>\n",
              "            <td>58</td>\n",
              "            <td>Pericles Comidas clásicas</td>\n",
              "            <td>1996-11-14 00:00:00</td>\n",
              "        </tr>\n",
              "        <tr>\n",
              "            <td>59</td>\n",
              "            <td>Piccolo und mehr</td>\n",
              "            <td>1996-11-13 00:00:00</td>\n",
              "        </tr>\n",
              "        <tr>\n",
              "            <td>59</td>\n",
              "            <td>Piccolo und mehr</td>\n",
              "            <td>1996-12-24 00:00:00</td>\n",
              "        </tr>\n",
              "        <tr>\n",
              "            <td>59</td>\n",
              "            <td>Piccolo und mehr</td>\n",
              "            <td>1997-01-27 00:00:00</td>\n",
              "        </tr>\n",
              "        <tr>\n",
              "            <td>60</td>\n",
              "            <td>Princesa Isabel Vinhoss</td>\n",
              "            <td>1996-10-23 00:00:00</td>\n",
              "        </tr>\n",
              "        <tr>\n",
              "            <td>60</td>\n",
              "            <td>Princesa Isabel Vinhoss</td>\n",
              "            <td>1996-12-27 00:00:00</td>\n",
              "        </tr>\n",
              "        <tr>\n",
              "            <td>60</td>\n",
              "            <td>Princesa Isabel Vinhoss</td>\n",
              "            <td>1997-02-03 00:00:00</td>\n",
              "        </tr>\n",
              "        <tr>\n",
              "            <td>61</td>\n",
              "            <td>Que Delícia</td>\n",
              "            <td>1996-07-19 00:00:00</td>\n",
              "        </tr>\n",
              "        <tr>\n",
              "            <td>61</td>\n",
              "            <td>Que Delícia</td>\n",
              "            <td>1996-08-27 00:00:00</td>\n",
              "        </tr>\n",
              "        <tr>\n",
              "            <td>61</td>\n",
              "            <td>Que Delícia</td>\n",
              "            <td>1996-12-11 00:00:00</td>\n",
              "        </tr>\n",
              "        <tr>\n",
              "            <td>61</td>\n",
              "            <td>Que Delícia</td>\n",
              "            <td>1997-01-21 00:00:00</td>\n",
              "        </tr>\n",
              "        <tr>\n",
              "            <td>62</td>\n",
              "            <td>Queen Cozinha</td>\n",
              "            <td>1996-12-04 00:00:00</td>\n",
              "        </tr>\n",
              "        <tr>\n",
              "            <td>62</td>\n",
              "            <td>Queen Cozinha</td>\n",
              "            <td>1997-01-07 00:00:00</td>\n",
              "        </tr>\n",
              "        <tr>\n",
              "            <td>63</td>\n",
              "            <td>QUICK-Stop</td>\n",
              "            <td>1996-08-05 00:00:00</td>\n",
              "        </tr>\n",
              "        <tr>\n",
              "            <td>63</td>\n",
              "            <td>QUICK-Stop</td>\n",
              "            <td>1996-08-20 00:00:00</td>\n",
              "        </tr>\n",
              "        <tr>\n",
              "            <td>63</td>\n",
              "            <td>QUICK-Stop</td>\n",
              "            <td>1996-08-21 00:00:00</td>\n",
              "        </tr>\n",
              "        <tr>\n",
              "            <td>63</td>\n",
              "            <td>QUICK-Stop</td>\n",
              "            <td>1996-09-24 00:00:00</td>\n",
              "        </tr>\n",
              "        <tr>\n",
              "            <td>63</td>\n",
              "            <td>QUICK-Stop</td>\n",
              "            <td>1996-11-04 00:00:00</td>\n",
              "        </tr>\n",
              "        <tr>\n",
              "            <td>63</td>\n",
              "            <td>QUICK-Stop</td>\n",
              "            <td>1996-11-22 00:00:00</td>\n",
              "        </tr>\n",
              "        <tr>\n",
              "            <td>63</td>\n",
              "            <td>QUICK-Stop</td>\n",
              "            <td>1997-01-17 00:00:00</td>\n",
              "        </tr>\n",
              "        <tr>\n",
              "            <td>65</td>\n",
              "            <td>Rattlesnake Canyon Grocery</td>\n",
              "            <td>1996-07-22 00:00:00</td>\n",
              "        </tr>\n",
              "        <tr>\n",
              "            <td>65</td>\n",
              "            <td>Rattlesnake Canyon Grocery</td>\n",
              "            <td>1996-08-02 00:00:00</td>\n",
              "        </tr>\n",
              "        <tr>\n",
              "            <td>65</td>\n",
              "            <td>Rattlesnake Canyon Grocery</td>\n",
              "            <td>1996-08-30 00:00:00</td>\n",
              "        </tr>\n",
              "        <tr>\n",
              "            <td>65</td>\n",
              "            <td>Rattlesnake Canyon Grocery</td>\n",
              "            <td>1996-09-25 00:00:00</td>\n",
              "        </tr>\n",
              "        <tr>\n",
              "            <td>65</td>\n",
              "            <td>Rattlesnake Canyon Grocery</td>\n",
              "            <td>1996-09-27 00:00:00</td>\n",
              "        </tr>\n",
              "        <tr>\n",
              "            <td>65</td>\n",
              "            <td>Rattlesnake Canyon Grocery</td>\n",
              "            <td>1996-11-05 00:00:00</td>\n",
              "        </tr>\n",
              "        <tr>\n",
              "            <td>65</td>\n",
              "            <td>Rattlesnake Canyon Grocery</td>\n",
              "            <td>1997-01-01 00:00:00</td>\n",
              "        </tr>\n",
              "        <tr>\n",
              "            <td>66</td>\n",
              "            <td>Reggiani Caseifici</td>\n",
              "            <td>1996-08-23 00:00:00</td>\n",
              "        </tr>\n",
              "        <tr>\n",
              "            <td>66</td>\n",
              "            <td>Reggiani Caseifici</td>\n",
              "            <td>1997-01-28 00:00:00</td>\n",
              "        </tr>\n",
              "        <tr>\n",
              "            <td>66</td>\n",
              "            <td>Reggiani Caseifici</td>\n",
              "            <td>1997-02-12 00:00:00</td>\n",
              "        </tr>\n",
              "        <tr>\n",
              "            <td>67</td>\n",
              "            <td>Ricardo Adocicados</td>\n",
              "            <td>1996-08-22 00:00:00</td>\n",
              "        </tr>\n",
              "        <tr>\n",
              "            <td>67</td>\n",
              "            <td>Ricardo Adocicados</td>\n",
              "            <td>1996-09-06 00:00:00</td>\n",
              "        </tr>\n",
              "        <tr>\n",
              "            <td>68</td>\n",
              "            <td>Richter Supermarkt</td>\n",
              "            <td>1996-07-12 00:00:00</td>\n",
              "        </tr>\n",
              "        <tr>\n",
              "            <td>68</td>\n",
              "            <td>Richter Supermarkt</td>\n",
              "            <td>1997-01-20 00:00:00</td>\n",
              "        </tr>\n",
              "        <tr>\n",
              "            <td>69</td>\n",
              "            <td>Romero y tomillo</td>\n",
              "            <td>1996-08-14 00:00:00</td>\n",
              "        </tr>\n",
              "        <tr>\n",
              "            <td>69</td>\n",
              "            <td>Romero y tomillo</td>\n",
              "            <td>1996-08-15 00:00:00</td>\n",
              "        </tr>\n",
              "        <tr>\n",
              "            <td>69</td>\n",
              "            <td>Romero y tomillo</td>\n",
              "            <td>1996-09-16 00:00:00</td>\n",
              "        </tr>\n",
              "        <tr>\n",
              "            <td>70</td>\n",
              "            <td>Santé Gourmet</td>\n",
              "            <td>1996-12-18 00:00:00</td>\n",
              "        </tr>\n",
              "        <tr>\n",
              "            <td>71</td>\n",
              "            <td>Save-a-lot Markets</td>\n",
              "            <td>1996-10-08 00:00:00</td>\n",
              "        </tr>\n",
              "        <tr>\n",
              "            <td>71</td>\n",
              "            <td>Save-a-lot Markets</td>\n",
              "            <td>1996-12-25 00:00:00</td>\n",
              "        </tr>\n",
              "        <tr>\n",
              "            <td>71</td>\n",
              "            <td>Save-a-lot Markets</td>\n",
              "            <td>1996-12-30 00:00:00</td>\n",
              "        </tr>\n",
              "        <tr>\n",
              "            <td>71</td>\n",
              "            <td>Save-a-lot Markets</td>\n",
              "            <td>1997-02-10 00:00:00</td>\n",
              "        </tr>\n",
              "        <tr>\n",
              "            <td>72</td>\n",
              "            <td>Seven Seas Imports</td>\n",
              "            <td>1996-11-21 00:00:00</td>\n",
              "        </tr>\n",
              "        <tr>\n",
              "            <td>72</td>\n",
              "            <td>Seven Seas Imports</td>\n",
              "            <td>1996-12-09 00:00:00</td>\n",
              "        </tr>\n",
              "        <tr>\n",
              "            <td>72</td>\n",
              "            <td>Seven Seas Imports</td>\n",
              "            <td>1996-12-19 00:00:00</td>\n",
              "        </tr>\n",
              "        <tr>\n",
              "            <td>73</td>\n",
              "            <td>Simons bistro</td>\n",
              "            <td>1996-10-29 00:00:00</td>\n",
              "        </tr>\n",
              "        <tr>\n",
              "            <td>73</td>\n",
              "            <td>Simons bistro</td>\n",
              "            <td>1997-01-16 00:00:00</td>\n",
              "        </tr>\n",
              "        <tr>\n",
              "            <td>75</td>\n",
              "            <td>Split Rail Beer &amp; Ale</td>\n",
              "            <td>1996-08-01 00:00:00</td>\n",
              "        </tr>\n",
              "        <tr>\n",
              "            <td>75</td>\n",
              "            <td>Split Rail Beer &amp; Ale</td>\n",
              "            <td>1996-10-15 00:00:00</td>\n",
              "        </tr>\n",
              "        <tr>\n",
              "            <td>75</td>\n",
              "            <td>Split Rail Beer &amp; Ale</td>\n",
              "            <td>1996-11-08 00:00:00</td>\n",
              "        </tr>\n",
              "        <tr>\n",
              "            <td>75</td>\n",
              "            <td>Split Rail Beer &amp; Ale</td>\n",
              "            <td>1996-12-02 00:00:00</td>\n",
              "        </tr>\n",
              "        <tr>\n",
              "            <td>75</td>\n",
              "            <td>Split Rail Beer &amp; Ale</td>\n",
              "            <td>1996-12-17 00:00:00</td>\n",
              "        </tr>\n",
              "        <tr>\n",
              "            <td>75</td>\n",
              "            <td>Split Rail Beer &amp; Ale</td>\n",
              "            <td>1997-01-31 00:00:00</td>\n",
              "        </tr>\n",
              "        <tr>\n",
              "            <td>76</td>\n",
              "            <td>Suprêmes délices</td>\n",
              "            <td>1996-07-09 00:00:00</td>\n",
              "        </tr>\n",
              "        <tr>\n",
              "            <td>76</td>\n",
              "            <td>Suprêmes délices</td>\n",
              "            <td>1996-09-10 00:00:00</td>\n",
              "        </tr>\n",
              "        <tr>\n",
              "            <td>77</td>\n",
              "            <td>The Big Cheese</td>\n",
              "            <td>1996-09-20 00:00:00</td>\n",
              "        </tr>\n",
              "        <tr>\n",
              "            <td>79</td>\n",
              "            <td>Toms Spezialitäten</td>\n",
              "            <td>1997-02-06 00:00:00</td>\n",
              "        </tr>\n",
              "        <tr>\n",
              "            <td>80</td>\n",
              "            <td>Tortuga Restaurante</td>\n",
              "            <td>1996-08-08 00:00:00</td>\n",
              "        </tr>\n",
              "        <tr>\n",
              "            <td>80</td>\n",
              "            <td>Tortuga Restaurante</td>\n",
              "            <td>1996-08-29 00:00:00</td>\n",
              "        </tr>\n",
              "        <tr>\n",
              "            <td>80</td>\n",
              "            <td>Tortuga Restaurante</td>\n",
              "            <td>1996-09-12 00:00:00</td>\n",
              "        </tr>\n",
              "        <tr>\n",
              "            <td>80</td>\n",
              "            <td>Tortuga Restaurante</td>\n",
              "            <td>1996-10-02 00:00:00</td>\n",
              "        </tr>\n",
              "        <tr>\n",
              "            <td>81</td>\n",
              "            <td>Tradição Hipermercados</td>\n",
              "            <td>1996-07-05 00:00:00</td>\n",
              "        </tr>\n",
              "        <tr>\n",
              "            <td>81</td>\n",
              "            <td>Tradição Hipermercados</td>\n",
              "            <td>1996-08-28 00:00:00</td>\n",
              "        </tr>\n",
              "        <tr>\n",
              "            <td>83</td>\n",
              "            <td>Vaffeljernet</td>\n",
              "            <td>1996-11-28 00:00:00</td>\n",
              "        </tr>\n",
              "        <tr>\n",
              "            <td>83</td>\n",
              "            <td>Vaffeljernet</td>\n",
              "            <td>1996-12-31 00:00:00</td>\n",
              "        </tr>\n",
              "        <tr>\n",
              "            <td>84</td>\n",
              "            <td>Victuailles en stock</td>\n",
              "            <td>1996-07-08 00:00:00</td>\n",
              "        </tr>\n",
              "        <tr>\n",
              "            <td>84</td>\n",
              "            <td>Victuailles en stock</td>\n",
              "            <td>1996-10-21 00:00:00</td>\n",
              "        </tr>\n",
              "        <tr>\n",
              "            <td>85</td>\n",
              "            <td>Vins et alcools Chevalier</td>\n",
              "            <td>1996-08-06 00:00:00</td>\n",
              "        </tr>\n",
              "        <tr>\n",
              "            <td>85</td>\n",
              "            <td>Vins et alcools Chevalier</td>\n",
              "            <td>1996-09-02 00:00:00</td>\n",
              "        </tr>\n",
              "        <tr>\n",
              "            <td>86</td>\n",
              "            <td>Die Wandernde Kuh</td>\n",
              "            <td>1996-09-09 00:00:00</td>\n",
              "        </tr>\n",
              "        <tr>\n",
              "            <td>86</td>\n",
              "            <td>Die Wandernde Kuh</td>\n",
              "            <td>1996-09-23 00:00:00</td>\n",
              "        </tr>\n",
              "        <tr>\n",
              "            <td>86</td>\n",
              "            <td>Die Wandernde Kuh</td>\n",
              "            <td>1996-11-07 00:00:00</td>\n",
              "        </tr>\n",
              "        <tr>\n",
              "            <td>86</td>\n",
              "            <td>Die Wandernde Kuh</td>\n",
              "            <td>1996-11-18 00:00:00</td>\n",
              "        </tr>\n",
              "        <tr>\n",
              "            <td>87</td>\n",
              "            <td>Wartian Herkku</td>\n",
              "            <td>1996-07-26 00:00:00</td>\n",
              "        </tr>\n",
              "        <tr>\n",
              "            <td>87</td>\n",
              "            <td>Wartian Herkku</td>\n",
              "            <td>1996-08-01 00:00:00</td>\n",
              "        </tr>\n",
              "        <tr>\n",
              "            <td>87</td>\n",
              "            <td>Wartian Herkku</td>\n",
              "            <td>1996-10-03 00:00:00</td>\n",
              "        </tr>\n",
              "        <tr>\n",
              "            <td>87</td>\n",
              "            <td>Wartian Herkku</td>\n",
              "            <td>1996-10-18 00:00:00</td>\n",
              "        </tr>\n",
              "        <tr>\n",
              "            <td>87</td>\n",
              "            <td>Wartian Herkku</td>\n",
              "            <td>1997-01-13 00:00:00</td>\n",
              "        </tr>\n",
              "        <tr>\n",
              "            <td>87</td>\n",
              "            <td>Wartian Herkku</td>\n",
              "            <td>1997-01-16 00:00:00</td>\n",
              "        </tr>\n",
              "        <tr>\n",
              "            <td>87</td>\n",
              "            <td>Wartian Herkku</td>\n",
              "            <td>1997-02-05 00:00:00</td>\n",
              "        </tr>\n",
              "        <tr>\n",
              "            <td>88</td>\n",
              "            <td>Wellington Importadora</td>\n",
              "            <td>1996-07-15 00:00:00</td>\n",
              "        </tr>\n",
              "        <tr>\n",
              "            <td>88</td>\n",
              "            <td>Wellington Importadora</td>\n",
              "            <td>1997-01-21 00:00:00</td>\n",
              "        </tr>\n",
              "        <tr>\n",
              "            <td>89</td>\n",
              "            <td>White Clover Markets</td>\n",
              "            <td>1996-07-31 00:00:00</td>\n",
              "        </tr>\n",
              "        <tr>\n",
              "            <td>89</td>\n",
              "            <td>White Clover Markets</td>\n",
              "            <td>1996-11-01 00:00:00</td>\n",
              "        </tr>\n",
              "        <tr>\n",
              "            <td>90</td>\n",
              "            <td>Wilman Kala</td>\n",
              "            <td>1996-07-04 00:00:00</td>\n",
              "        </tr>\n",
              "        <tr>\n",
              "            <td>91</td>\n",
              "            <td>Wolski</td>\n",
              "            <td>1996-12-05 00:00:00</td>\n",
              "        </tr>\n",
              "    </tbody>\n",
              "</table>"
            ],
            "text/plain": [
              "[(2, 'Ana Trujillo Emparedados y helados', '1996-09-18 00:00:00'),\n",
              " (3, 'Antonio Moreno Taquería', '1996-11-27 00:00:00'),\n",
              " (4, 'Around the Horn', '1996-11-15 00:00:00'),\n",
              " (4, 'Around the Horn', '1996-12-16 00:00:00'),\n",
              " (5, 'Berglunds snabbköp', '1996-08-12 00:00:00'),\n",
              " (5, 'Berglunds snabbköp', '1996-08-14 00:00:00'),\n",
              " (5, 'Berglunds snabbköp', '1996-12-16 00:00:00'),\n",
              " (7, 'Blondel père et fils', '1996-07-25 00:00:00'),\n",
              " (7, 'Blondel père et fils', '1996-09-04 00:00:00'),\n",
              " (7, 'Blondel père et fils', '1996-11-22 00:00:00'),\n",
              " (7, 'Blondel père et fils', '1997-02-05 00:00:00'),\n",
              " (8, 'Bólido Comidas preparadas', '1996-10-10 00:00:00'),\n",
              " (9, \"Bon app'\", '1996-10-16 00:00:00'),\n",
              " (9, \"Bon app'\", '1996-10-29 00:00:00'),\n",
              " (9, \"Bon app'\", '1996-11-25 00:00:00'),\n",
              " (10, 'Bottom-Dollar Marketse', '1996-12-20 00:00:00'),\n",
              " (10, 'Bottom-Dollar Marketse', '1997-01-10 00:00:00'),\n",
              " (10, 'Bottom-Dollar Marketse', '1997-01-10 00:00:00'),\n",
              " (10, 'Bottom-Dollar Marketse', '1997-01-30 00:00:00'),\n",
              " (11, \"B's Beverages\", '1996-08-26 00:00:00'),\n",
              " (13, 'Centro comercial Moctezuma', '1996-07-18 00:00:00'),\n",
              " (14, 'Chop-suey Chinese', '1996-07-11 00:00:00'),\n",
              " (14, 'Chop-suey Chinese', '1996-12-03 00:00:00'),\n",
              " (15, 'Comércio Mineiro', '1996-08-27 00:00:00'),\n",
              " (16, 'Consolidated Holdings', '1997-02-04 00:00:00'),\n",
              " (17, 'Drachenblut Delikatessend', '1996-11-26 00:00:00'),\n",
              " (17, 'Drachenblut Delikatessend', '1996-12-23 00:00:00'),\n",
              " (18, 'Du monde entier', '1996-09-20 00:00:00'),\n",
              " (19, 'Eastern Connection', '1996-11-26 00:00:00'),\n",
              " (19, 'Eastern Connection', '1997-01-01 00:00:00'),\n",
              " (20, 'Ernst Handel', '1996-07-17 00:00:00'),\n",
              " (20, 'Ernst Handel', '1996-07-23 00:00:00'),\n",
              " (20, 'Ernst Handel', '1996-11-11 00:00:00'),\n",
              " (20, 'Ernst Handel', '1996-11-29 00:00:00'),\n",
              " (20, 'Ernst Handel', '1996-12-13 00:00:00'),\n",
              " (20, 'Ernst Handel', '1996-12-23 00:00:00'),\n",
              " (20, 'Ernst Handel', '1997-01-02 00:00:00'),\n",
              " (20, 'Ernst Handel', '1997-01-03 00:00:00'),\n",
              " (20, 'Ernst Handel', '1997-01-30 00:00:00'),\n",
              " (20, 'Ernst Handel', '1997-02-11 00:00:00'),\n",
              " (21, 'Familia Arquibaldo', '1996-11-06 00:00:00'),\n",
              " (21, 'Familia Arquibaldo', '1996-12-18 00:00:00'),\n",
              " (21, 'Familia Arquibaldo', '1997-01-14 00:00:00'),\n",
              " (23, 'Folies gourmandes', '1997-01-08 00:00:00'),\n",
              " (24, 'Folk och fä HB', '1996-07-24 00:00:00'),\n",
              " (24, 'Folk och fä HB', '1996-10-11 00:00:00'),\n",
              " (24, 'Folk och fä HB', '1996-12-10 00:00:00'),\n",
              " (24, 'Folk och fä HB', '1997-02-03 00:00:00'),\n",
              " (25, 'Frankenversand', '1996-07-29 00:00:00'),\n",
              " (25, 'Frankenversand', '1996-10-24 00:00:00'),\n",
              " (25, 'Frankenversand', '1996-10-30 00:00:00'),\n",
              " (25, 'Frankenversand', '1996-12-27 00:00:00'),\n",
              " (27, 'Franchi S.p.A.', '1997-01-22 00:00:00'),\n",
              " (28, 'Furia Bacalhau e Frutos do Mar', '1996-10-14 00:00:00'),\n",
              " (28, 'Furia Bacalhau e Frutos do Mar', '1996-11-12 00:00:00'),\n",
              " (29, 'Galería del gastrónomo', '1996-11-28 00:00:00'),\n",
              " (29, 'Galería del gastrónomo', '1997-01-27 00:00:00'),\n",
              " (30, 'Godos Cocina Típica', '1996-09-11 00:00:00'),\n",
              " (31, 'Gourmet Lanchonetes', '1997-01-23 00:00:00'),\n",
              " (33, 'GROSELLA-Restaurante', '1996-07-30 00:00:00'),\n",
              " (34, 'Hanari Carnes', '1996-07-08 00:00:00'),\n",
              " (34, 'Hanari Carnes', '1996-07-10 00:00:00'),\n",
              " (35, 'HILARIÓN-Abastos', '1996-07-16 00:00:00'),\n",
              " (35, 'HILARIÓN-Abastos', '1996-12-26 00:00:00'),\n",
              " (36, 'Hungry Coyote Import Store', '1996-12-06 00:00:00'),\n",
              " (36, 'Hungry Coyote Import Store', '1996-12-25 00:00:00'),\n",
              " (36, 'Hungry Coyote Import Store', '1997-01-15 00:00:00'),\n",
              " (37, 'Hungry Owl All-Night Grocers', '1996-09-05 00:00:00'),\n",
              " (37, 'Hungry Owl All-Night Grocers', '1996-09-19 00:00:00'),\n",
              " (37, 'Hungry Owl All-Night Grocers', '1996-10-22 00:00:00'),\n",
              " (37, 'Hungry Owl All-Night Grocers', '1996-12-05 00:00:00'),\n",
              " (37, 'Hungry Owl All-Night Grocers', '1996-12-12 00:00:00'),\n",
              " (37, 'Hungry Owl All-Night Grocers', '1997-01-29 00:00:00'),\n",
              " (38, 'Island Trading', '1996-09-26 00:00:00'),\n",
              " (38, 'Island Trading', '1996-10-01 00:00:00'),\n",
              " (38, 'Island Trading', '1996-10-03 00:00:00'),\n",
              " (39, 'Königlich Essen', '1996-10-07 00:00:00'),\n",
              " (39, 'Königlich Essen', '1996-10-09 00:00:00'),\n",
              " (41, \"La maison d'Asie\", '1996-11-11 00:00:00'),\n",
              " (41, \"La maison d'Asie\", '1996-11-20 00:00:00'),\n",
              " (41, \"La maison d'Asie\", '1996-12-03 00:00:00'),\n",
              " (41, \"La maison d'Asie\", '1997-01-14 00:00:00'),\n",
              " (41, \"La maison d'Asie\", '1997-01-24 00:00:00'),\n",
              " (44, 'Lehmanns Marktstand', '1996-08-13 00:00:00'),\n",
              " (44, 'Lehmanns Marktstand', '1996-08-19 00:00:00'),\n",
              " (44, 'Lehmanns Marktstand', '1996-10-31 00:00:00'),\n",
              " (46, 'LILA-Supermercado', '1996-08-16 00:00:00'),\n",
              " (46, 'LILA-Supermercado', '1996-09-03 00:00:00'),\n",
              " (46, 'LILA-Supermercado', '1996-10-16 00:00:00'),\n",
              " (46, 'LILA-Supermercado', '1996-11-19 00:00:00'),\n",
              " (46, 'LILA-Supermercado', '1996-12-12 00:00:00'),\n",
              " (47, 'LINO-Delicateses', '1997-01-06 00:00:00'),\n",
              " (48, 'Lonesome Pine Restaurant', '1996-09-17 00:00:00'),\n",
              " (48, 'Lonesome Pine Restaurant', '1996-09-30 00:00:00'),\n",
              " (49, 'Magazzini Alimentari Riuniti', '1996-08-07 00:00:00'),\n",
              " (49, 'Magazzini Alimentari Riuniti', '1996-09-09 00:00:00'),\n",
              " (49, 'Magazzini Alimentari Riuniti', '1997-01-03 00:00:00'),\n",
              " (51, 'Mère Paillarde', '1996-10-17 00:00:00'),\n",
              " (51, 'Mère Paillarde', '1996-10-28 00:00:00'),\n",
              " (51, 'Mère Paillarde', '1996-12-09 00:00:00'),\n",
              " (51, 'Mère Paillarde', '1997-01-23 00:00:00'),\n",
              " (51, 'Mère Paillarde', '1997-02-07 00:00:00'),\n",
              " (52, 'Morgenstern Gesundkost', '1996-08-09 00:00:00'),\n",
              " (54, 'Océano Atlántico Ltda.', '1997-01-09 00:00:00'),\n",
              " (55, 'Old World Delicatessen', '1996-07-19 00:00:00'),\n",
              " (55, 'Old World Delicatessen', '1996-09-13 00:00:00'),\n",
              " (55, 'Old World Delicatessen', '1996-10-25 00:00:00'),\n",
              " (55, 'Old World Delicatessen', '1997-02-10 00:00:00'),\n",
              " (56, 'Ottilies Käseladen', '1997-01-07 00:00:00'),\n",
              " (58, 'Pericles Comidas clásicas', '1996-10-04 00:00:00'),\n",
              " (58, 'Pericles Comidas clásicas', '1996-11-14 00:00:00'),\n",
              " (59, 'Piccolo und mehr', '1996-11-13 00:00:00'),\n",
              " (59, 'Piccolo und mehr', '1996-12-24 00:00:00'),\n",
              " (59, 'Piccolo und mehr', '1997-01-27 00:00:00'),\n",
              " (60, 'Princesa Isabel Vinhoss', '1996-10-23 00:00:00'),\n",
              " (60, 'Princesa Isabel Vinhoss', '1996-12-27 00:00:00'),\n",
              " (60, 'Princesa Isabel Vinhoss', '1997-02-03 00:00:00'),\n",
              " (61, 'Que Delícia', '1996-07-19 00:00:00'),\n",
              " (61, 'Que Delícia', '1996-08-27 00:00:00'),\n",
              " (61, 'Que Delícia', '1996-12-11 00:00:00'),\n",
              " (61, 'Que Delícia', '1997-01-21 00:00:00'),\n",
              " (62, 'Queen Cozinha', '1996-12-04 00:00:00'),\n",
              " (62, 'Queen Cozinha', '1997-01-07 00:00:00'),\n",
              " (63, 'QUICK-Stop', '1996-08-05 00:00:00'),\n",
              " (63, 'QUICK-Stop', '1996-08-20 00:00:00'),\n",
              " (63, 'QUICK-Stop', '1996-08-21 00:00:00'),\n",
              " (63, 'QUICK-Stop', '1996-09-24 00:00:00'),\n",
              " (63, 'QUICK-Stop', '1996-11-04 00:00:00'),\n",
              " (63, 'QUICK-Stop', '1996-11-22 00:00:00'),\n",
              " (63, 'QUICK-Stop', '1997-01-17 00:00:00'),\n",
              " (65, 'Rattlesnake Canyon Grocery', '1996-07-22 00:00:00'),\n",
              " (65, 'Rattlesnake Canyon Grocery', '1996-08-02 00:00:00'),\n",
              " (65, 'Rattlesnake Canyon Grocery', '1996-08-30 00:00:00'),\n",
              " (65, 'Rattlesnake Canyon Grocery', '1996-09-25 00:00:00'),\n",
              " (65, 'Rattlesnake Canyon Grocery', '1996-09-27 00:00:00'),\n",
              " (65, 'Rattlesnake Canyon Grocery', '1996-11-05 00:00:00'),\n",
              " (65, 'Rattlesnake Canyon Grocery', '1997-01-01 00:00:00'),\n",
              " (66, 'Reggiani Caseifici', '1996-08-23 00:00:00'),\n",
              " (66, 'Reggiani Caseifici', '1997-01-28 00:00:00'),\n",
              " (66, 'Reggiani Caseifici', '1997-02-12 00:00:00'),\n",
              " (67, 'Ricardo Adocicados', '1996-08-22 00:00:00'),\n",
              " (67, 'Ricardo Adocicados', '1996-09-06 00:00:00'),\n",
              " (68, 'Richter Supermarkt', '1996-07-12 00:00:00'),\n",
              " (68, 'Richter Supermarkt', '1997-01-20 00:00:00'),\n",
              " (69, 'Romero y tomillo', '1996-08-14 00:00:00'),\n",
              " (69, 'Romero y tomillo', '1996-08-15 00:00:00'),\n",
              " (69, 'Romero y tomillo', '1996-09-16 00:00:00'),\n",
              " (70, 'Santé Gourmet', '1996-12-18 00:00:00'),\n",
              " (71, 'Save-a-lot Markets', '1996-10-08 00:00:00'),\n",
              " (71, 'Save-a-lot Markets', '1996-12-25 00:00:00'),\n",
              " (71, 'Save-a-lot Markets', '1996-12-30 00:00:00'),\n",
              " (71, 'Save-a-lot Markets', '1997-02-10 00:00:00'),\n",
              " (72, 'Seven Seas Imports', '1996-11-21 00:00:00'),\n",
              " (72, 'Seven Seas Imports', '1996-12-09 00:00:00'),\n",
              " (72, 'Seven Seas Imports', '1996-12-19 00:00:00'),\n",
              " (73, 'Simons bistro', '1996-10-29 00:00:00'),\n",
              " (73, 'Simons bistro', '1997-01-16 00:00:00'),\n",
              " (75, 'Split Rail Beer & Ale', '1996-08-01 00:00:00'),\n",
              " (75, 'Split Rail Beer & Ale', '1996-10-15 00:00:00'),\n",
              " (75, 'Split Rail Beer & Ale', '1996-11-08 00:00:00'),\n",
              " (75, 'Split Rail Beer & Ale', '1996-12-02 00:00:00'),\n",
              " (75, 'Split Rail Beer & Ale', '1996-12-17 00:00:00'),\n",
              " (75, 'Split Rail Beer & Ale', '1997-01-31 00:00:00'),\n",
              " (76, 'Suprêmes délices', '1996-07-09 00:00:00'),\n",
              " (76, 'Suprêmes délices', '1996-09-10 00:00:00'),\n",
              " (77, 'The Big Cheese', '1996-09-20 00:00:00'),\n",
              " (79, 'Toms Spezialitäten', '1997-02-06 00:00:00'),\n",
              " (80, 'Tortuga Restaurante', '1996-08-08 00:00:00'),\n",
              " (80, 'Tortuga Restaurante', '1996-08-29 00:00:00'),\n",
              " (80, 'Tortuga Restaurante', '1996-09-12 00:00:00'),\n",
              " (80, 'Tortuga Restaurante', '1996-10-02 00:00:00'),\n",
              " (81, 'Tradição Hipermercados', '1996-07-05 00:00:00'),\n",
              " (81, 'Tradição Hipermercados', '1996-08-28 00:00:00'),\n",
              " (83, 'Vaffeljernet', '1996-11-28 00:00:00'),\n",
              " (83, 'Vaffeljernet', '1996-12-31 00:00:00'),\n",
              " (84, 'Victuailles en stock', '1996-07-08 00:00:00'),\n",
              " (84, 'Victuailles en stock', '1996-10-21 00:00:00'),\n",
              " (85, 'Vins et alcools Chevalier', '1996-08-06 00:00:00'),\n",
              " (85, 'Vins et alcools Chevalier', '1996-09-02 00:00:00'),\n",
              " (86, 'Die Wandernde Kuh', '1996-09-09 00:00:00'),\n",
              " (86, 'Die Wandernde Kuh', '1996-09-23 00:00:00'),\n",
              " (86, 'Die Wandernde Kuh', '1996-11-07 00:00:00'),\n",
              " (86, 'Die Wandernde Kuh', '1996-11-18 00:00:00'),\n",
              " (87, 'Wartian Herkku', '1996-07-26 00:00:00'),\n",
              " (87, 'Wartian Herkku', '1996-08-01 00:00:00'),\n",
              " (87, 'Wartian Herkku', '1996-10-03 00:00:00'),\n",
              " (87, 'Wartian Herkku', '1996-10-18 00:00:00'),\n",
              " (87, 'Wartian Herkku', '1997-01-13 00:00:00'),\n",
              " (87, 'Wartian Herkku', '1997-01-16 00:00:00'),\n",
              " (87, 'Wartian Herkku', '1997-02-05 00:00:00'),\n",
              " (88, 'Wellington Importadora', '1996-07-15 00:00:00'),\n",
              " (88, 'Wellington Importadora', '1997-01-21 00:00:00'),\n",
              " (89, 'White Clover Markets', '1996-07-31 00:00:00'),\n",
              " (89, 'White Clover Markets', '1996-11-01 00:00:00'),\n",
              " (90, 'Wilman Kala', '1996-07-04 00:00:00'),\n",
              " (91, 'Wolski', '1996-12-05 00:00:00')]"
            ]
          },
          "metadata": {},
          "execution_count": 182
        }
      ]
    }
  ]
}